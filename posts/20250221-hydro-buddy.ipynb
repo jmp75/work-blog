{
 "cells": [
  {
   "cell_type": "raw",
   "metadata": {},
   "source": [
    "---\n",
    "title: \"An AI-enabled hydrologic modelling buddy - part3\"\n",
    "description: \"Context informed AI for hydrologic modelling\"\n",
    "author: J-M\n",
    "date: \"2025-02-21\"\n",
    "categories: [\"swift2\", \"streamflow forecasting\", \"ai\"]\n",
    "format: \n",
    "  html:\n",
    "    toc: true\n",
    "toc: true\n",
    "code-fold: false\n",
    "draft: false\n",
    "# image: 000.png\n",
    "---"
   ]
  },
  {
   "attachments": {},
   "cell_type": "markdown",
   "metadata": {},
   "source": [
    "## Purpose\n",
    "\n",
    "This post is the output of a dialogue via the [`solveit`](https://solveit.fast.ai/) platform, the first attempting to make an AI (claude sonnet I think) competent in a \"niche\" hydrologic modelling in Python, the `swift2` package. It follows the previous blog post(s) on AI dialogue engineering.\n",
    "\n",
    "Note that this post results from a notebook excution, but at this stage we cannot run `swift2` from this notebook, so no figures yet sorry.\n",
    "\n",
    "## Plan\n",
    "\n",
    "In this notebook we are trying to distill a Python API formatted as a markdown document, into a content that is suitable as a context for a large language model to be competent in programming this Python API. We will see how far we go in ingesting this API content, and ideally try to get some competent programming out the AI, aiming to get a basic model simulation working.\n",
    "\n",
    "We start from a large-ish markdown file previously produced with `griffe2md` (see prior post). The markdown file is also under [csiro-hydroinformatics/swift-py-doc/tree/main/src](https://github.com/csiro-hydroinformatics/swift-py-doc/tree/main/src) for reference."
   ]
  },
  {
   "cell_type": "code",
   "execution_count": null,
   "metadata": {
    "vscode": {
     "languageId": "python"
    }
   },
   "outputs": [
    {
     "name": "stdout",
     "output_type": "stream",
     "text": [
      "## swift2\n",
      "\n",
      "Tools for manipulating LakeOneD models and data and for running\n",
      "SWIFT from Python.\n",
      "\n",
      "**Modules:**\n",
      "\n",
      "- [**classes**](#swift2.classes) –\n",
      "- [**common**](#swift2.common) –\n",
      "- [**const**](#swift2.const) –\n",
      "- [**doc_helper**](#swift2.doc_helper) –\n",
      "- [**helpers**](#swift2.helpers) –\n",
      "- [**internal**](#swift2.internal) –\n",
      "- [**model_definitions**](#swift2.model_definitions) –\n",
      "- [**parameteriser**](#swift2.parameteriser) –\n",
      "- [**play_record**](#swift2.play_record) –\n",
      "- [**proto**](#swift2.proto) – Prototypes\n",
      "- [**prototypes**](#swift2.prototypes) –\n",
      "- [**simulation**](#swift2.simulation) –\n",
      "- [**statistics**](#swift2.statistics) –\n",
      "- [**system**](#swift2.system) –\n",
      "- [**utils**](#swift2.utils) –\n",
      "- [**vis**](#swift2.vis) –\n",
      "- [**wrap**](#swift2.wrap) – CFFI based wrapper for the SWIFT2 native library\n",
      "\n",
      "### swift2.classes\n",
      "\n",
      "**Classes:**\n",
      "\n",
      "- [**CandidateFactorySeed**](#swift2.classes.CandidateFactorySeed) –\n",
      "- [**CompositeParameteriser**](#swift2.classes.CompositeParameteriser) – A parameteriser defined as the concatenation of several parameterisers\n",
      "- [**ConstraintParameteriser**](#swift2.classes.ConstraintParameteriser) –\n",
      "- [**EnsembleForecastSimulation**](#swift2.classes.EnsembleForecastSimulation) –\n",
      "- [**EnsembleSimulation**](#swift2.classes.EnsembleSimulation) – A simulation designed to facilitate model runs over ensemble of inputs\n",
      "- [**ErrisStagedCalibration**](#swift2.classes.ErrisStagedCalibration) –\n",
      "- [**FilteringParameteriser**](#swift2.classes.FilteringParameteriser) –\n",
      "- [**FunctionsParameteriser**](#swift2.classes.FunctionsParameteriser) –\n",
      "- [**HypercubeParameteriser**](#swift2.classes.HypercubeParameteriser) –\n",
      "- [**MaerrisStagedCalibration**](#swift2.classes.MaerrisStagedCalibration) –\n",
      "- [**MemoryStates**](#swift2.classes.MemoryStates) –\n",
      "- [**ObjectiveEvaluator**](#swift2.classes.ObjectiveEvaluator) – Objective Evaluator\n",
      "- [**ObjectiveScores**](#swift2.classes.ObjectiveScores) –\n",
      "- [**Optimiser**](#swift2.classes.Optimiser) –\n",
      "- [**Parameteriser**](#swift2.classes.Parameter\n"
     ]
    }
   ],
   "source": [
    "from bs4 import BeautifulSoup as bs\n",
    "fn = \"./static/swift2_api.md\"\n",
    "with open(fn, 'r') as file:\n",
    "    content = file.read()\n",
    "text = bs(content, 'html.parser').get_text()\n",
    "print(text[:2000])"
   ]
  },
  {
   "attachments": {},
   "cell_type": "markdown",
   "metadata": {},
   "source": [
    "## Ingesting the markdown API into python objects\n",
    "\n",
    "> This is where the magic happens, but if you want to see generated modelling code skip to the next section\n",
    "\n",
    "We will now be using [`toolslm`](https://github.com/AnswerDotAI/toolslm/) to manipulate what is essentially a hierarchical document. We will be parsing the markdown document to have a python structure of nested dictionaries. This is done to use a feature with context variable substitution that is specific to `solveit` so far as I know, so that the AI can know about information content without maxing out the context length. A bit of magic I don't fully understand yet, but I've seen it work."
   ]
  },
  {
   "cell_type": "code",
   "execution_count": null,
   "metadata": {
    "vscode": {
     "languageId": "python"
    }
   },
   "outputs": [],
   "source": [
    "from toolslm.md_hier import *\n",
    "hdgs = create_heading_dict(text)"
   ]
  },
  {
   "attachments": {},
   "cell_type": "markdown",
   "metadata": {},
   "source": [
    "The above is a hierarchy of level 1, 2, 3 etc. headers, not the content of the API. Let's get the content (not only the headers), of the section for some basic simulation steps first. We use another function `markdown_to_dict` from the `toolslm` package."
   ]
  },
  {
   "cell_type": "code",
   "execution_count": null,
   "metadata": {
    "vscode": {
     "languageId": "python"
    }
   },
   "outputs": [],
   "source": [
    "hdict = markdown_to_dict(text)"
   ]
  },
  {
   "cell_type": "code",
   "execution_count": null,
   "metadata": {
    "vscode": {
     "languageId": "python"
    }
   },
   "outputs": [
    {
     "data": {
      "text/plain": [
       "(fastcore.basics.AttrDict, 1228)"
      ]
     },
     "execution_count": null,
     "metadata": {},
     "output_type": "execute_result"
    }
   ],
   "source": [
    "type(hdict), len(hdict)"
   ]
  },
  {
   "cell_type": "code",
   "execution_count": null,
   "metadata": {
    "vscode": {
     "languageId": "python"
    }
   },
   "outputs": [
    {
     "data": {
      "text/plain": [
       "['swift2',\n",
       " 'swift2.swift2classes',\n",
       " 'swift2.swift2classes.swift2classesCandidateFactorySeed',\n",
       " 'swift2.swift2classes.swift2classesCandidateFactorySeed.swift2classesCompositeParameteriser',\n",
       " 'swift2.swift2classes.swift2classesCandidateFactorySeed.swift2classesCompositeParameteriser.swift2classesCompositeParameteriseraddparametertohypercube',\n",
       " 'swift2.swift2classes.swift2classesCandidateFactorySeed.swift2classesCompositeParameteriser.swift2classesCompositeParameteriseraddtohypercube',\n",
       " 'swift2.swift2classes.swift2classesCandidateFactorySeed.swift2classesCompositeParameteriser.swift2classesCompositeParameteriserappend',\n",
       " 'swift2.swift2classes.swift2classesCandidateFactorySeed.swift2classesCompositeParameteriser.swift2classesCompositeParameteriserapplysysconfig',\n",
       " 'swift2.swift2classes.swift2classesCandidateFactorySeed.swift2classesCompositeParameteriser.swift2classesCompositeParameteriserasdataframe',\n",
       " 'swift2.swift2classes.swift2classesCandidateFactorySeed.swift2classesCompositeParameteriser.swift2classesCompositeParameteriserbacktransform',\n",
       " 'swift2.swift2classes.swift2classesCandidateFactorySeed.swift2classesCompositeParameteriser.swift2classesCompositeParameteriserclone',\n",
       " 'swift2.swift2classes.swift2classesCandidateFactorySeed.swift2classesCompositeParameteriser.swift2classesCompositeParameteriserconcatenate',\n",
       " 'swift2.swift2classes.swift2classesCandidateFactorySeed.swift2classesCompositeParameteriser.swift2classesCompositeParameterisercreateparametersampler',\n",
       " 'swift2.swift2classes.swift2classesCandidateFactorySeed.swift2classesCompositeParameteriser.swift2classesCompositeParameteriseremptycomposite',\n",
       " 'swift2.swift2classes.swift2classesCandidateFactorySeed.swift2classesCompositeParameteriser.swift2classesCompositeParameteriserfilteredparameters',\n",
       " 'swift2.swift2classes.swift2classesCandidateFactorySeed.swift2classesCompositeParameteriser.swift2classesCompositeParameteriserfromdataframe',\n",
       " 'swift2.swift2classes.swift2classesCandidateFactorySeed.swift2classesCompositeParameteriser.swift2classesCompositeParameteriserhideparameters',\n",
       " 'swift2.swift2classes.swift2classesCandidateFactorySeed.swift2classesCompositeParameteriser.swift2classesCompositeParameterisermakestateinitparameteriser',\n",
       " 'swift2.swift2classes.swift2classesCandidateFactorySeed.swift2classesCompositeParameteriser.swift2classesCompositeParameterisernumfreeparameters',\n",
       " 'swift2.swift2classes.swift2classesCandidateFactorySeed.swift2classesCompositeParameteriser.swift2classesCompositeParameteriserscoreforobjective']"
      ]
     },
     "execution_count": null,
     "metadata": {},
     "output_type": "execute_result"
    }
   ],
   "source": [
    "list(hdict.keys())[:20]"
   ]
  },
  {
   "attachments": {},
   "cell_type": "markdown",
   "metadata": {},
   "source": [
    "Hmmm. OK. This may work as designed and would work for some API, but given that subheaders in the markdown structure are fully qualifed names, this leads to very long flattened keys for subsections. I note also that `CompositeParameteriser` sits under `CandidateFactorySeed` in the hierarchy, where these are both level 4 headers in the raw text, so there may be a bug in `toolslm`, or at least it trips up because of the text content."
   ]
  },
  {
   "cell_type": "code",
   "execution_count": null,
   "metadata": {
    "vscode": {
     "languageId": "python"
    }
   },
   "outputs": [
    {
     "name": "stdout",
     "output_type": "stream",
     "text": [
      "##### swift2.classes.CompositeParameteriser.add_parameter_to_hypercube\n",
      "\n",
      "```python\n",
      "add_parameter_to_hypercube(name, value, min, max)\n",
      "```\n",
      "\n",
      "Add a parameter to a hypercube. Must be a type of object that is expandable, otherwise may raise an exception\n"
     ]
    }
   ],
   "source": [
    "key = 'swift2.swift2classes.swift2classesCandidateFactorySeed.swift2classesCompositeParameteriser.swift2classesCompositeParameteriseraddparametertohypercube'\n",
    "print(hdict[key])"
   ]
  },
  {
   "cell_type": "markdown",
   "metadata": {},
   "source": [
    "**AI Prompt**\n",
    "\n",
    "OK, `hdict` is some sort of dictionary that has keys such as 'swift2.swift2classes.swift2classesCandidateFactorySeed.swift2classesCompositeParameteriser.swift2classesCompositeParameteriseraddparametertohypercube'. Can you propose a transformation from this dict to another dict, where keys are shortened such that only the last element separated by the '.' character remain, i.e. only 'swift2classesCompositeParameteriseraddparametertohypercube', but the value of the dictionary is the same.."
   ]
  },
  {
   "cell_type": "markdown",
   "metadata": {},
   "source": [
    "**AI Response**\n",
    "\n",
    "Here's a simple way to transform the dictionary to use only the last part of each key:\n",
    "\n",
    "```python\n",
    "short_dict = {k.split('.')[-1]: v for k, v in hdict.items()}\n",
    "```\n",
    "\n",
    "Would you like me to show you what some of the transformed keys look like? We can check a few examples to make sure this works as expected."
   ]
  },
  {
   "cell_type": "code",
   "execution_count": null,
   "metadata": {
    "vscode": {
     "languageId": "python"
    }
   },
   "outputs": [],
   "source": [
    "short_dict = {k.split('.')[-1]: v for k, v in hdict.items()}"
   ]
  },
  {
   "cell_type": "code",
   "execution_count": null,
   "metadata": {
    "vscode": {
     "languageId": "python"
    }
   },
   "outputs": [
    {
     "data": {
      "text/plain": [
       "1228"
      ]
     },
     "execution_count": null,
     "metadata": {},
     "output_type": "execute_result"
    }
   ],
   "source": [
    "len(short_dict)"
   ]
  },
  {
   "cell_type": "markdown",
   "metadata": {},
   "source": [
    "## Can the AI write competently `swift2` workflows? "
   ]
  },
  {
   "cell_type": "markdown",
   "metadata": {},
   "source": [
    "**AI Prompt**\n",
    "\n",
    "I want to create a sample hydrologic workflow using the `swift2` python API described in $`hdgs`. What might be some nice examples that we could put together. Tell me which parts of the docs would have the relevant info."
   ]
  },
  {
   "cell_type": "markdown",
   "metadata": {},
   "source": [
    "**AI Response**\n",
    "\n",
    "Looking at the structure in `hdgs`, I can suggest a few potential hydrological workflows we could explore. Let me highlight some key components:\n",
    "\n",
    "1. Basic Simulation Setup:\n",
    "- `swift2.simulation` module appears to have core functions for creating and running simulations\n",
    "- `swift2.model_definitions` would help with setting up catchment structures\n",
    "\n",
    "2. Calibration Workflow:\n",
    "- `swift2.classes.ErrisStagedCalibration` and `swift2.classes.MaerrisStagedCalibration` suggest we can do model calibration\n",
    "- `swift2.parameteriser` module would help manage model parameters\n",
    "- `swift2.statistics` would help evaluate model performance\n",
    "\n",
    "3. Ensemble Forecasting:\n",
    "- `swift2.classes.EnsembleForecastSimulation` suggests we can do ensemble forecasting\n",
    "- `swift2.play_record` module would help manage inputs and outputs\n",
    "\n",
    "Would you like me to elaborate on any of these potential workflows? Which aspect interests you most - model setup, calibration, or forecasting?"
   ]
  },
  {
   "cell_type": "code",
   "execution_count": null,
   "metadata": {
    "vscode": {
     "languageId": "python"
    }
   },
   "outputs": [],
   "source": [
    "s_system = short_dict['swift2system']"
   ]
  },
  {
   "attachments": {},
   "cell_type": "markdown",
   "metadata": {},
   "source": [
    "Let us now see if we can use the API context to create sensible, preferably working, code snippets. I do know where to get the relevant context, so I cheat a bit here, wher a step looking for the right documentation would be needed, but let's limit the \"cheating\" to the minimum."
   ]
  },
  {
   "cell_type": "markdown",
   "metadata": {},
   "source": [
    "**AI Prompt**\n",
    "\n",
    "From the API documentation in $`s_system`, can you suggest a standalone python code snippet with which we can query what are the supported types of rainfall-runoff models in this API?"
   ]
  },
  {
   "cell_type": "markdown",
   "metadata": {},
   "source": [
    "**AI Response**\n",
    "\n",
    "Yes! Looking at `s_system`, I can see there's a function called `runoff_model_ids()` that returns the names of known runoff models. Here's a simple code snippet to query this:\n",
    "\n",
    "```python\n",
    "from swift2.system import runoff_model_ids\n",
    "\n",
    "available_models = runoff_model_ids()\n",
    "print(\"Available rainfall-runoff models:\")\n",
    "print(available_models)\n",
    "```\n",
    "\n",
    "Would you like to try running this code to see what models are available? We can then look up the variables each model exposes using the `runoff_model_var_ids()` function if you're interested."
   ]
  },
  {
   "cell_type": "markdown",
   "metadata": {},
   "source": [
    "**AI Prompt**\n",
    "\n",
    "OK, that worked (I have to run in another notebook). Tell me how I can check which variables are exposed by a model, for instance one called `SACSMA` from the previous coue snippet."
   ]
  },
  {
   "cell_type": "markdown",
   "metadata": {},
   "source": [
    "**AI Response**\n",
    "\n",
    "From the `s_system` documentation, we can use the `runoff_model_var_ids()` function, which takes a `model_id` parameter. Here's how to check the variables for the SACSMA model:\n",
    "\n",
    "```python\n",
    "from swift2.system import runoff_model_var_ids\n",
    "\n",
    "sacsma_vars = runoff_model_var_ids('SACSMA')\n",
    "print(\"Variables exposed by SACSMA model:\")\n",
    "print(sacsma_vars)\n",
    "```\n",
    "\n",
    "This should return a list of all the variables that can be queried or set in the SACSMA model. Would you like to try this and see what variables are available?"
   ]
  },
  {
   "cell_type": "markdown",
   "metadata": {},
   "source": [
    "**AI Prompt**\n",
    "\n",
    "I think the API includes sample data as well as functions to create lumped model simulations. Looking at the API header titles in the dictionary `hdict`, can you suggest which functions I may use to create a lumped rainfall runoff model I can execute on that sample data."
   ]
  },
  {
   "cell_type": "markdown",
   "metadata": {},
   "source": [
    "**AI Response**\n",
    "\n",
    "Let me look through the dictionary keys. One promising path appears to be in the `proto` module, as I can see there's a `PbmModelFactory` class with a `new_monthly_lumped_model` method.\n",
    "\n",
    "Let me check if there are other relevant sections before suggesting a specific approach. Would you like me to show the documentation for the relevant functions I find?\n",
    "\n",
    "The most relevant sections might be:\n",
    "1. `swift2.proto.PbmModelFactory` for creating the model\n",
    "2. `swift2.simulation` module for running it\n",
    "3. `swift2.doc_helper` which seems to have some sample data functions\n",
    "\n",
    "Which of these would you like to explore first?"
   ]
  },
  {
   "cell_type": "markdown",
   "metadata": {},
   "source": [
    "**AI Prompt**\n",
    "\n",
    "I don't know about this `proto` module, but tell me more about the `simulation` and `doc_helper` submodules and what looks relevant to get a model up and running."
   ]
  },
  {
   "cell_type": "markdown",
   "metadata": {},
   "source": [
    "**AI Response**\n",
    "\n",
    "Let me check the relevant documentation for those modules. Let's start with one at a time.\n",
    "\n",
    "In `swift2.simulation`, some key functions that look relevant for getting started are:\n",
    "- `create_catchment`\n",
    "- `create_subarea`\n",
    "- `exec_simulation`\n",
    "- `set_simulation_span`\n",
    "- `set_simulation_time_step`\n",
    "\n",
    "In `swift2.doc_helper`, there appear to be some helpful setup functions:\n",
    "- `configure_test_simulation`\n",
    "- `create_test_catchment_structure`\n",
    "- `sample_catchment_model`\n",
    "- `sample_series`\n",
    "\n",
    "Would you like me to show the detailed documentation for any of these functions? The `doc_helper` functions look particularly useful for getting started with a sample simulation."
   ]
  },
  {
   "cell_type": "code",
   "execution_count": null,
   "metadata": {
    "vscode": {
     "languageId": "python"
    }
   },
   "outputs": [],
   "source": [
    "simdoc = short_dict[\"swift2simulation\"]"
   ]
  },
  {
   "cell_type": "markdown",
   "metadata": {},
   "source": [
    "**AI Prompt**\n",
    "\n",
    "OK, looking in the API documentation of the simulation submodule in $`simdoc`, can you suggest the most straightforward way I can get a simulation model that I can execute and get an output runoff time series, with minimum code?"
   ]
  },
  {
   "cell_type": "markdown",
   "metadata": {},
   "source": [
    "**AI Response**\n",
    "\n",
    "Looking at `simdoc`, the `create_subarea_simulation` function appears to be the most straightforward way to get started. It's specifically designed for creating sample simulations and comes with sensible defaults. Here's what it needs:\n",
    "\n",
    "```python\n",
    "from swift2.simulation import create_subarea_simulation, exec_simulation\n",
    "\n",
    "# Create a simple simulation with default values:\n",
    "sim = create_subarea_simulation(\n",
    "    data_id='MMH',  # Default sample data\n",
    "    model_id='GR4J', # Default model\n",
    "    tstep='daily',  # Time step\n",
    "    simul_start='1990-01-01',  # Default start\n",
    "    simul_end='2005-12-31'     # Default end\n",
    ")\n",
    "\n",
    "# Execute the simulation\n",
    "exec_simulation(sim)\n",
    "```\n",
    "\n",
    "Would you like to try this? After execution, we can look at how to access the output runoff time series if you're interested."
   ]
  },
  {
   "cell_type": "markdown",
   "metadata": {},
   "source": [
    "**AI Prompt**\n",
    "\n",
    "That worked, it seems. Now tell me more about how to access the output runoff time series as you suggest. How can I do that?"
   ]
  },
  {
   "cell_type": "markdown",
   "metadata": {},
   "source": [
    "**AI Response**\n",
    "\n",
    "Looking at the API documentation, we can use functions from the `get_recorded` family to access simulation outputs. According to `simdoc`, we'll need to use functions to get the variable names first, then access their values.\n",
    "\n",
    "Here's how we can do it step by step:\n",
    "\n",
    "```python\n",
    "# First, let's see what variables were recorded\n",
    "from swift2.simulation import get_recorded_varnames\n",
    "\n",
    "recorded_vars = get_recorded_varnames(sim)\n",
    "print(\"Recorded variables:\", recorded_vars)\n",
    "```\n",
    "\n",
    "Would you like to try this first to see what variables are available? Then we can proceed with getting the actual time series data for the variables you're interested in."
   ]
  },
  {
   "cell_type": "markdown",
   "metadata": {},
   "source": [
    "**AI Prompt**\n",
    "\n",
    "Hmmm no I get \"ImportError: cannot import name 'get_recorded_varnames' from 'swift2.simulation'\". Looking back into `hdgs`, suggest the sections I likely need to look into to find the correct portions of detailed API documentation to provide to you so that you can create working code to get the runoff output."
   ]
  },
  {
   "cell_type": "markdown",
   "metadata": {},
   "source": [
    "**AI Response**\n",
    "\n",
    "Looking at the structure in `hdgs`, we should look at the `swift2.play_record` module, as it seems to contain functions for accessing recorded simulation outputs. The name suggests it handles \"playing\" (input) and \"recording\" (output) of data.\n",
    "\n",
    "Would you like me to see the detailed documentation for the `swift2.play_record` module? This should help us find the correct function names for accessing the simulated runoff time series.\n",
    "\n",
    "Also, I notice there's a `get_all_recorded` function in the `Simulation` class itself (under `swift2.classes.Simulation`), so that might be another approach.\n",
    "\n",
    "Which of these would you like me to look into first?"
   ]
  },
  {
   "cell_type": "code",
   "execution_count": null,
   "metadata": {
    "vscode": {
     "languageId": "python"
    }
   },
   "outputs": [],
   "source": [
    "simobjectdoc = short_dict[\"swift2classesSimulation\"]"
   ]
  },
  {
   "cell_type": "markdown",
   "metadata": {},
   "source": [
    "**AI Prompt**\n",
    "\n",
    "Right, working with the simulation object feels like the best approach. Looking into $`simobjectdoc` can you suggest how I can access and perhaps visualise the outputs of the simulation?"
   ]
  },
  {
   "cell_type": "markdown",
   "metadata": {},
   "source": [
    "**AI Response**\n",
    "\n",
    "Looking at `simobjectdoc`, there are two main approaches to get the simulation outputs:\n",
    "\n",
    "1. First, we need to tell the simulation what to record using `record_state()`. By default it records something called 'CATCHMENT_FLOWRATE_VARID'.\n",
    "\n",
    "2. Then after running the simulation, we can get the outputs using either:\n",
    "   - `get_all_recorded()` - gets all recorded time series\n",
    "   - `get_recorded()` - more specific, can get particular variables\n",
    "\n",
    "Would you like me to show you how to use these functions step by step? We should probably start by recording the state and then retrieving it.\n",
    "\n",
    "The sequence would be:\n",
    "1. Record the state we want\n",
    "2. Execute the simulation (which you've already done)\n",
    "3. Retrieve and plot the results\n",
    "\n",
    "Would you like me to show you the first step?"
   ]
  },
  {
   "cell_type": "markdown",
   "metadata": {},
   "source": [
    "**AI Prompt**\n",
    "\n",
    "Propose me some code to do the lot in one go, using our `sim` object."
   ]
  },
  {
   "cell_type": "markdown",
   "metadata": {},
   "source": [
    "**AI Response**\n",
    "\n",
    "Here's a complete code snippet to record, retrieve, and plot the simulation results:\n",
    "\n",
    "```python\n",
    "import matplotlib.pyplot as plt\n",
    "\n",
    "# Record the default streamflow state\n",
    "sim.record_state()  # Uses CATCHMENT_FLOWRATE_VARID by default\n",
    "\n",
    "# Get the recorded time series\n",
    "flow = sim.get_recorded()\n",
    "\n",
    "# Create a simple plot\n",
    "plt.figure(figsize=(10,6))\n",
    "plt.plot(flow)\n",
    "plt.title('Simulated Streamflow')\n",
    "plt.xlabel('Time')\n",
    "plt.ylabel('Flow')\n",
    "plt.grid(True)\n",
    "plt.show()\n",
    "```\n",
    "\n",
    "Would you like to try this and see what it shows? Then we can discuss how to customize the plot or look at different variables if needed."
   ]
  },
  {
   "cell_type": "markdown",
   "metadata": {},
   "source": [
    "**AI Prompt**\n",
    "\n",
    "This appears syntactically correct, but this does not execute correctly. I get a message \"SwiftError: b'to_date_time_to_second cannot handle value not_a_datetime'\". Can you guess what step is missing in the code you proposed?"
   ]
  },
  {
   "cell_type": "markdown",
   "metadata": {},
   "source": [
    "**AI Response**\n",
    "\n",
    "Ah yes! Looking back at `simobjectdoc`, we need to set the simulation time span before we can run the simulation. Let's add that step:\n",
    "\n",
    "```python\n",
    "import matplotlib.pyplot as plt\n",
    "\n",
    "# Set the simulation time period\n",
    "sim.set_simulation_span('1990-01-01', '2005-12-31')  # Using the same dates as in create_subarea_simulation\n",
    "\n",
    "# Record the default streamflow state\n",
    "sim.record_state()  # Uses CATCHMENT_FLOWRATE_VARID by default\n",
    "\n",
    "# Get the recorded time series\n",
    "flow = sim.get_recorded()\n",
    "\n",
    "# Create a simple plot\n",
    "plt.figure(figsize=(10,6))\n",
    "plt.plot(flow)\n",
    "plt.title('Simulated Streamflow')\n",
    "plt.xlabel('Time')\n",
    "plt.ylabel('Flow')\n",
    "plt.grid(True)\n",
    "plt.show()\n",
    "```\n",
    "\n",
    "Would you like to try this version? The `set_simulation_span` function should help initialize the time dimension properly."
   ]
  },
  {
   "cell_type": "markdown",
   "metadata": {},
   "source": [
    "**AI Prompt**\n",
    "\n",
    "Still the same error message. Hint: where do we run the simulation object in all this?"
   ]
  },
  {
   "cell_type": "markdown",
   "metadata": {},
   "source": [
    "**AI Response**\n",
    "\n",
    "Ah of course! We need to actually execute the simulation using `exec_simulation()` after setting up the recording but before trying to get the results. Here's the corrected sequence:\n",
    "\n",
    "```python\n",
    "import matplotlib.pyplot as plt\n",
    "\n",
    "# Set the simulation time period\n",
    "sim.set_simulation_span('1990-01-01', '2005-12-31')\n",
    "\n",
    "# Record the default streamflow state\n",
    "sim.record_state()  # Uses CATCHMENT_FLOWRATE_VARID by default\n",
    "\n",
    "# Execute the simulation\n",
    "sim.exec_simulation()\n",
    "\n",
    "# Get the recorded time series\n",
    "flow = sim.get_recorded()\n",
    "\n",
    "# Create a simple plot\n",
    "plt.figure(figsize=(10,6))\n",
    "plt.plot(flow)\n",
    "plt.title('Simulated Streamflow')\n",
    "plt.xlabel('Time')\n",
    "plt.ylabel('Flow')\n",
    "plt.grid(True)\n",
    "plt.show()\n",
    "```\n",
    "\n",
    "Would you like to try this version with the `exec_simulation()` step added?"
   ]
  },
  {
   "attachments": {},
   "cell_type": "markdown",
   "metadata": {},
   "source": [
    "## Wrap up\n",
    "\n",
    "That last bit was correct, though the plotting does not quite work due to an incorrect assumption about what the `flow` output is and what shape it is, which is fair enough: a human would also struggle at the beginning.\n",
    "\n",
    "This is an early proof of concept, but this seems promising to me. It is a far cry from the total hallucinations we get without this additional API context.\n",
    "\n",
    "We basically cover the very beginning of the \"Getting Started\" tutorial, so there is work ahead. Crawl before you walk..."
   ]
  }
 ],
 "metadata": {
  "kernelspec": {
   "display_name": "python3",
   "language": "python",
   "name": "python3"
  }
 },
 "nbformat": 4,
 "nbformat_minor": 4
}
