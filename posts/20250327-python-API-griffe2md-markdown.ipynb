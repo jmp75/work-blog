{
 "cells": [
  {
   "cell_type": "raw",
   "metadata": {},
   "source": [
    "---\n",
    "title: \"An AI-enabled hydrologic modelling buddy - part4\"\n",
    "description: \"Massage griffe2md python API doc to an intuitive context hierarchy\"\n",
    "author: J-M\n",
    "date: \"2025-03-27\"\n",
    "categories: [\"swift2\", \"streamflow forecasting\", \"ai\"]\n",
    "format: \n",
    "  html:\n",
    "    toc: true\n",
    "toc: true\n",
    "code-fold: false\n",
    "draft: false\n",
    "image: ./img/python_api_context.png\n",
    "---"
   ]
  },
  {
   "attachments": {},
   "cell_type": "markdown",
   "metadata": {},
   "source": [
    "# Parsing a Mardown python API to provide a context to an AI\n",
    "\n",
    "## Plan\n",
    "\n",
    "We have a python package API documentation that is formatted as a Markdown document, using [griffe2md](https://github.com/mkdocstrings/griffe2md). We want to use a package called `toolslm` to massage this information into python dictionaries so that an AI can exploit this information. The `toolslm` package has a few buit-in behaviors entirely sensible for some other inputs, that create artefacts in its outputs that are not ideal for the Markdown document produced by `griffe2md`. This document is an attempt to modify or augment `toolslm` to maintain python function names and more intuitive hierarchical section names for the API documentation.\n",
    "\n",
    "## Installing `toolslm` from source\n",
    "\n",
    "We do need to force the installation of the toolslm from source (somehow found that I needed to use `--force-reinstall`, and make sure I restart `solveit` to get the right version), as it includes a fix not yet released in the toolslm on `pypi`."
   ]
  },
  {
   "cell_type": "code",
   "execution_count": null,
   "metadata": {
    "vscode": {
     "languageId": "python"
    }
   },
   "outputs": [],
   "source": [
    "# !pip install --force-reinstall \"git+https://github.com/AnswerDotAI/toolslm\""
   ]
  },
  {
   "cell_type": "code",
   "execution_count": null,
   "metadata": {
    "vscode": {
     "languageId": "python"
    }
   },
   "outputs": [
    {
     "name": "stdout",
     "output_type": "stream",
     "text": [
      "toolslm @ git+https://github.com/AnswerDotAI/toolslm@7c959bff55a60479e412385b3933ba8dfcbb4b40\r\n"
     ]
    },
    {
     "name": "stderr",
     "output_type": "stream",
     "text": [
      "/usr/local/lib/python3.11/site-packages/lancedb/__init__.py:220: UserWarning: lance is not fork-safe. If you are using multiprocessing, use spawn instead.\n",
      "  warnings.warn(\n"
     ]
    }
   ],
   "source": [
    "!pip freeze | grep toolslm"
   ]
  },
  {
   "cell_type": "code",
   "execution_count": null,
   "metadata": {
    "vscode": {
     "languageId": "python"
    }
   },
   "outputs": [],
   "source": [
    "from bs4 import BeautifulSoup as bs\n",
    "fn = \"./static/swift2_api.md\"\n",
    "with open(fn, 'r') as file:\n",
    "    content = file.read()\n",
    "text = bs(content, 'html.parser').get_text()"
   ]
  },
  {
   "cell_type": "code",
   "execution_count": null,
   "metadata": {
    "vscode": {
     "languageId": "python"
    }
   },
   "outputs": [
    {
     "name": "stdout",
     "output_type": "stream",
     "text": [
      "## swift2\n",
      "\n",
      "Python interface to the SWIFT2 streamflow simulation and forecasting libraries.\n",
      "\n",
      "**Modules:**\n",
      "\n",
      "- [**classes**](#swift2.classes) –\n",
      "- [**common**](#swift2.common) –\n",
      "- [**const**](#swift2.const) –\n",
      "- [**doc_helper**](#swift2.doc_helper) –\n",
      "- [**helpers**](#swift2.helpers) –\n",
      "- [**internal**](#swift2.internal) –\n",
      "- [**model_definitions**](#swift2.model_definitions) –\n",
      "- [**parameteriser**](#swift2.parameteriser) –\n",
      "- [**play_record**](#swift2.play_record) –\n",
      "- [**proto**](#swift2.proto) – Prototypes\n",
      "- [**prototypes**](#swift2.prototypes) –\n",
      "- [**simulation**](#swift2.simulation) –\n",
      "- [**statistics**](#swift2.statistics) –\n",
      "- [**system**](#swift2.system) –\n",
      "- [**utils**](#swift2.utils) –\n",
      "- [**vis**](#swift2.vis) –\n",
      "- [**wrap**](#swift2.wrap) – CFFI based wrapper for the SWIFT2 native library\n",
      "\n",
      "### swift2.classes\n",
      "\n",
      "**Classes:**\n",
      "\n",
      "- [**CandidateFactorySeed**](#swift2.classes.CandidateFactorySeed) –\n",
      "- [**CompositeParameteriser**](#swift2.classes.CompositeParameteriser) – A parameteriser defined as the concatenation of several parameterisers\n",
      "- [**ConstraintParameteriser**](#swift2.classes.ConstraintParameteriser) –\n",
      "- [**EnsembleForecastSimulation**](#swift2.classes.EnsembleForecastSimulation) –\n",
      "- [**EnsembleSimulation**](#swift2.classes.EnsembleSimulation) – A simulation designed to facilitate model runs over ensemble of inputs\n",
      "- [**ErrisStagedCalibration**](#swift2.classes.ErrisStagedCalibration) –\n",
      "- [**FilteringParameteriser**](#swift2.classes.FilteringParameteriser) –\n",
      "- [**FunctionsParameteriser**](#swift2.classes.FunctionsParameteriser) –\n",
      "- [**HypercubeParameteriser**](#swift2.classes.HypercubeParameteriser) –\n",
      "- [**MaerrisStagedCalibration**](#swift2.classes.MaerrisStagedCalibration) –\n",
      "- [**MemoryStates**](#swift2.classes.MemoryStates) –\n",
      "- [**ObjectiveEvaluator**](#swift2.classes.ObjectiveEvaluator) – Objective Evaluator\n",
      "- [**ObjectiveScores**](#swift2.classes.ObjectiveScores) –\n",
      "- [**Optimiser**](#swift2.classes.Optimiser) –\n",
      "- [**Parameteriser**](#swift2.classes.Parameteriser) – Wrapper around a native parameteriser.\n",
      "- [**ScalingParameteriser**](#swift2.classes.ScalingParameteriser) –\n",
      "- [**SceTerminationCondition**](#swift2.classes.SceTerminationCondition) –\n",
      "- [**Simulation**](#swift2.classes.Simulation) – Wrapper around single dimension simulation objects\n",
      "- [**SimulationMixin**](#swift2.classes.SimulationMixin) – A parent class for simulation objects. Most users are unlikely to explicitly use it.\n",
      "- [**StateInitParameteriser**](#swift2.classes.StateInitParameteriser) –\n",
      "- [**StateInitialiser**](#swift2.classes.StateInitialiser) –\n",
      "- [**TransformParameteriser**](#swift2.classes.TransformParameteriser) –\n",
      "- [**VectorObjectiveScores**](#swift2.classes.VectorObjectiveScores) –\n",
      "\n",
      "**Functions:**\n",
      "\n",
      "- [**wrap_cffi_native_handle**](#swift2.classes.wrap_cffi_native_handle) –\n",
      "\n",
      "#### swift2.classes.CandidateFactorySeed\n",
      "\n",
      "```python\n",
      "CandidateFactorySeed(handle, release_native, type_id=None, prior_ref_count=0)\n",
      "```\n",
      "\n",
      "Bases: [DeletableCffiNativeHandle](#refcount.interop.DeletableCffiNativeHandle)\n",
      "\n",
      "#### swift2.classes.CompositeParameteriser\n",
      "\n",
      "```python\n",
      "CompositeParameteriser(handle, release_native, type_id=None, prior_ref_count=0)\n",
      "```\n",
      "\n",
      "Bases: [HypercubeParameteriser](#swift2.classes.HypercubeParameteriser)\n",
      "\n",
      "A parameteriser defined as the concatenation of several parameterisers\n",
      "\n",
      "**Functions:**\n",
      "\n",
      "- [**add_parameter_to_hypercube**](#swift2.classes.CompositeParameteriser.add_parameter_to_hypercube) – Add a parameter to a hypercube. Must be a type of object that is expandable, otherwise may raise an exception\n",
      "- [**add_to_hypercube**](#swift2.classes.CompositeParameteriser.add_to_hypercube) – Add entries to a hypercube. Must be a type of object that is expandable, otherwise may raise an exception.\n",
      "- [**append**](#swift2.classes.CompositeParameteriser.append) – Append a parameteriser to this composite parameteriser\n",
      "- [**apply_sys_config**](#swift2.classes.CompositeParameteriser.apply_sys_config) – Apply a model configuration to a simulation\n",
      "- [**as_dataframe**](#swift2.classes.CompositeParameteriser.as_dataframe) – Convert this hypercube parameteriser to a pandas data frame representation\n",
      "- [**backtransform**](#swift2.classes.CompositeParameteriser.backtransform) – Get the parameteriser values in the untransformed space\n",
      "- [**clone**](#swift2.classes.CompositeParameteriser.clone) –\n",
      "- [**concatenate**](#swift2.classes.CompositeParameteriser.concatenate) – Concatenates some hypercubes to a single parameteriser\n",
      "- [**create_parameter_sampler**](#swift2.classes.CompositeParameteriser.create_parameter_sampler) – Creates a sampler for this parameteriser\n",
      "- [**empty_composite**](#swift2.classes.CompositeParameteriser.empty_composite) – Creates an empty parameteriser to be populated with other parameterisers\n",
      "- [**filtered_parameters**](#swift2.classes.CompositeParameteriser.filtered_parameters) – Wrap a parameteriser in a filter that can hide some parameters\n",
      "- [**from_dataframe**](#swift2.classes.CompositeParameteriser.from_dataframe) – Create a parameteriser\n",
      "- [**hide_parameters**](#swift2.classes.CompositeParameteriser.hide_parameters) – Hide some parameters (from the outside e.g. optimisers) in a filter parameteriser\n",
      "- [**make_state_init_parameteriser**](#swift2.classes.CompositeParameteriser.make_state_init_parameteriser) – Create a parameteriser used for model state initialisation\n",
      "- [**num_free_parameters**](#swift2.classes.CompositeParameteriser.num_free_parameters) – Number of free parameters in this hypercube parameteriser\n",
      "- [**score_for_objective**](#swift2.classes.CompositeParameteriser.score_for_objective) – Computes the value of an objective for this given set of parameters\n",
      "- [**set_hypercube**](#swift2.classes.CompositeParameteriser.set_hypercube) – Set the properties of a hypercube parameteriser\n",
      "- [**set_max_parameter_value**](#swift2.classes.CompositeParameteriser.set_max_parameter_value) – Sets the value(s) of the upper bound of one or more parameter(s)\n",
      "- [**set_min_parameter_value**](#swift2.classes.CompositeParameteriser.set_min_parameter_value) – Sets the value(s) of the lower bound of one or more parameter(s)\n",
      "- [**set_parameter_definition**](#swift2.classes.CompositeParameteriser.set_parameter_definition) – Sets the feasible range and value for a parameter\n",
      "- [**set_parameter_value**](#swift2.classes.CompositeParameteriser.set_parameter_value) – Sets the value(s) of one or more parameter(s)\n",
      "- [**show_parameters**](#swift2.classes.CompositeParameteriser.show_parameters) – Show some parameters (from the outside e.g. optimisers) in a filter parameteriser\n",
      "- [**subcatchment_parameteriser**](#swift2.classes.CompositeParameteriser.subcatchment_parameteriser) – Create a parameteriser that gets applied to a subset of a whole catchment\n",
      "- [**supports_thread_safe_cloning**](#swift2.classes.CompositeParameteriser.supports_thread_safe_cloning) – Is this parameteriser clonable as a deep copy, safe for multi-threading?\n",
      "- [**wrap_transform**](#swift2.classes.CompositeParameteriser.wrap_transform) – Create a parameteriser for which parameter transformations can be defined.\n",
      "\n",
      "##### swift2.classes.CompositeParameteriser.add_parameter_to_hypercube\n",
      "\n",
      "```python\n",
      "add_parameter_to_hypercube(name, value, min, max)\n",
      "```\n",
      "\n",
      "Add a parameter to a hypercube. Must be a type of object that is expandable, otherwise may raise an exception\n",
      "\n",
      "##### swift2.classes.CompositeParameteriser.add_to_hypercube\n",
      "\n",
      "```python\n",
      "add_to_hypercube(specs)\n",
      "```\n",
      "\n",
      "Add entries to a hypercube. Must be a type of object that is expandable, otherwise may raise an exception.\n",
      "\n",
      "**Parameters:**\n",
      "\n",
      "- **specs** ([DataFrame](#pandas.DataFrame)) – An optional data frame description of the parameter set, with at least columns Name, Min, Max, Value.\n",
      "\n",
      "##### swift2.classes.CompositeParameteriser.append\n",
      "\n",
      "```python\n",
      "append(p)\n",
      "```\n",
      "\n",
      "Append a parameteriser to this composite parameteriser\n",
      "\n",
      "**Parameters:**\n",
      "\n",
      "- **p** ([HypercubeParameteriser](#swift2.classes.HypercubeParameteriser)) – hypercube to append to this\n",
      "\n",
      "##### swift2.classes.CompositeParameteriser.apply_sys_config\n",
      "\n",
      "```python\n",
      "apply_sys_config(simulation)\n",
      "```\n",
      "\n",
      "Apply a model configuration to a simulation\n",
      "\n",
      "**Parameters:**\n",
      "\n",
      "- **simulation** ([Simulation](#swift2.classes.Simulation)) – simulation\n",
      "\n",
      "##### swift2.classes.CompositeParameteriser.as_dataframe\n",
      "\n",
      "```python\n",
      "as_dataframe()\n",
      "```\n",
      "\n",
      "Convert this hypercube parameteriser to a pandas data frame representation\n",
      "\n",
      "**Returns:**\n",
      "\n",
      "- [DataFrame](#pandas.DataFrame) – pd.DataFrame: pandas data frame\n",
      "\n",
      "##### swift2.classes.CompositeParameteriser.backtransform\n",
      "\n",
      "```python\n",
      "backtransform()\n",
      "```\n",
      "\n",
      "Get the parameteriser values in the untransformed space\n",
      "\n",
      "Get the parameteriser values in the untransformed space, i.e. remove any\n",
      "transform added via \\[`HypercubeParameteriser.wrap_transform`\\][HypercubeParameteriser.wrap_transform].\n",
      "This allows to transform back e.g. from a virtual parameter log_X\n",
      "to the underlying model (or even virtual/meta) parameter X.\n",
      "\n",
      "**Returns:**\n",
      "\n",
      "- **HypercubeParameteriser** ([HypercubeParameteriser](#swift2.classes.HypercubeParameteriser)) – The parameters definitions without the transforms (if there are any)\n",
      "\n",
      "**Examples:**\n",
      "\n",
      "```pycon\n",
      ">>> ref_area = 250\n",
      ">>> time_span = 3600\n",
      ">>> ptrans = sdh.define_gr4j_scaled_parameter(ref_area, time_span)\n",
      ">>> ptrans\n",
      "    Name     Value       Min       Max\n",
      "0    log_x4  0.305422  0.000000  2.380211\n",
      "1    log_x1  0.506690  0.000000  3.778151\n",
      "2    log_x3  0.315425  0.000000  3.000000\n",
      "3  asinh_x2  2.637752 -3.989327  3.989327\n",
      ">>> ptrans.backtransform()\n",
      "Name    Value   Min     Max\n",
      "0   x2  6.95511 -27.0    27.0\n",
      "1   x3  2.06740   1.0  1000.0\n",
      "2   x4  2.02033   1.0   240.0\n",
      "3   x1  3.21137   1.0  6000.0\n",
      ">>>\n",
      "```\n",
      "\n",
      "##### swift2.classes.CompositeParameteriser.clone\n",
      "\n",
      "```python\n",
      "clone()\n",
      "```\n",
      "\n",
      "##### swift2.classes.CompositeParameteriser.concatenate\n",
      "\n",
      "```python\n",
      "concatenate(*args, strategy='')\n",
      "```\n",
      "\n",
      "Concatenates some hypercubes to a single parameteriser\n",
      "\n",
      "**Parameters:**\n",
      "\n",
      "- **strategy** ([str](#str)) – The strategy to contatenate. Defaults to \"\", equivalent to \"composite\", the only available. May have other options in the future.\n"
     ]
    }
   ],
   "source": [
    "print(text[:10000])"
   ]
  },
  {
   "attachments": {},
   "cell_type": "markdown",
   "metadata": {},
   "source": [
    "## Processing the swift2 API markdown format with `toolslm`"
   ]
  },
  {
   "cell_type": "code",
   "execution_count": null,
   "metadata": {
    "vscode": {
     "languageId": "python"
    }
   },
   "outputs": [],
   "source": [
    "from toolslm.md_hier import *\n",
    "hdgs = create_heading_dict(text)"
   ]
  },
  {
   "cell_type": "code",
   "execution_count": null,
   "metadata": {
    "vscode": {
     "languageId": "python"
    }
   },
   "outputs": [
    {
     "data": {
      "text/markdown": [
       "```json\n",
       "{ 'swift2.classes.CompositeParameteriser.add_parameter_to_hypercube': {},\n",
       "  'swift2.classes.CompositeParameteriser.add_to_hypercube': {},\n",
       "  'swift2.classes.CompositeParameteriser.append': {},\n",
       "  'swift2.classes.CompositeParameteriser.apply_sys_config': {},\n",
       "  'swift2.classes.CompositeParameteriser.as_dataframe': {},\n",
       "  'swift2.classes.CompositeParameteriser.backtransform': {},\n",
       "  'swift2.classes.CompositeParameteriser.clone': {},\n",
       "  'swift2.classes.CompositeParameteriser.concatenate': {},\n",
       "  'swift2.classes.CompositeParameteriser.create_parameter_sampler': {},\n",
       "  'swift2.classes.CompositeParameteriser.empty_composite': {},\n",
       "  'swift2.classes.CompositeParameteriser.filtered_parameters': {},\n",
       "  'swift2.classes.CompositeParameteriser.from_dataframe': {},\n",
       "  'swift2.classes.CompositeParameteriser.hide_parameters': {},\n",
       "  'swift2.classes.CompositeParameteriser.make_state_init_parameteriser': {},\n",
       "  'swift2.classes.CompositeParameteriser.num_free_parameters': {},\n",
       "  'swift2.classes.CompositeParameteriser.score_for_objective': {},\n",
       "  'swift2.classes.CompositeParameteriser.set_hypercube': {},\n",
       "  'swift2.classes.CompositeParameteriser.set_max_parameter_value': {},\n",
       "  'swift2.classes.CompositeParameteriser.set_min_parameter_value': {},\n",
       "  'swift2.classes.CompositeParameteriser.set_parameter_definition': {},\n",
       "  'swift2.classes.CompositeParameteriser.set_parameter_value': {},\n",
       "  'swift2.classes.CompositeParameteriser.show_parameters': {},\n",
       "  'swift2.classes.CompositeParameteriser.subcatchment_parameteriser': {},\n",
       "  'swift2.classes.CompositeParameteriser.supports_thread_safe_cloning': {},\n",
       "  'swift2.classes.CompositeParameteriser.wrap_transform': {}}\n",
       "```"
      ],
      "text/plain": [
       "{'swift2.classes.CompositeParameteriser.add_parameter_to_hypercube': {},\n",
       " 'swift2.classes.CompositeParameteriser.add_to_hypercube': {},\n",
       " 'swift2.classes.CompositeParameteriser.append': {},\n",
       " 'swift2.classes.CompositeParameteriser.apply_sys_config': {},\n",
       " 'swift2.classes.CompositeParameteriser.as_dataframe': {},\n",
       " 'swift2.classes.CompositeParameteriser.backtransform': {},\n",
       " 'swift2.classes.CompositeParameteriser.clone': {},\n",
       " 'swift2.classes.CompositeParameteriser.concatenate': {},\n",
       " 'swift2.classes.CompositeParameteriser.create_parameter_sampler': {},\n",
       " 'swift2.classes.CompositeParameteriser.empty_composite': {},\n",
       " 'swift2.classes.CompositeParameteriser.filtered_parameters': {},\n",
       " 'swift2.classes.CompositeParameteriser.from_dataframe': {},\n",
       " 'swift2.classes.CompositeParameteriser.hide_parameters': {},\n",
       " 'swift2.classes.CompositeParameteriser.make_state_init_parameteriser': {},\n",
       " 'swift2.classes.CompositeParameteriser.num_free_parameters': {},\n",
       " 'swift2.classes.CompositeParameteriser.score_for_objective': {},\n",
       " 'swift2.classes.CompositeParameteriser.set_hypercube': {},\n",
       " 'swift2.classes.CompositeParameteriser.set_max_parameter_value': {},\n",
       " 'swift2.classes.CompositeParameteriser.set_min_parameter_value': {},\n",
       " 'swift2.classes.CompositeParameteriser.set_parameter_definition': {},\n",
       " 'swift2.classes.CompositeParameteriser.set_parameter_value': {},\n",
       " 'swift2.classes.CompositeParameteriser.show_parameters': {},\n",
       " 'swift2.classes.CompositeParameteriser.subcatchment_parameteriser': {},\n",
       " 'swift2.classes.CompositeParameteriser.supports_thread_safe_cloning': {},\n",
       " 'swift2.classes.CompositeParameteriser.wrap_transform': {}}"
      ]
     },
     "execution_count": null,
     "metadata": {},
     "output_type": "execute_result"
    }
   ],
   "source": [
    "subsection_header = hdgs['swift2']['swift2.classes']['swift2.classes.CompositeParameteriser']\n",
    "subsection_header"
   ]
  },
  {
   "cell_type": "markdown",
   "metadata": {},
   "source": [
    "**AI Prompt**\n",
    "\n",
    "## Massaging the hierarchical subsection to short names\n",
    "\n",
    "The dictionary of dictionaries `hdgs` is such that the dictionary keys at every nested level have fully qualfied names, for instance `hdgs['swift2']['swift2.classes']['swift2.classes.CompositeParameteriser']['swift2.classes.CompositeParameteriser.add_parameter_to_hypercube']` I want to process this dictionary `hdgs` and produce a new dictionary using short module and function names at every level, to that I have a new dictionary of dictionaries `new_hdgs` where I can address the nested content with `new_hdgs['swift2']['classes']['CompositeParameteriser']['add_parameter_to_hypercube']` to access the final nested value, which is an empty dictionary `{}`. I suggest that in this case it is OK to assume that we can transform each sub-key by keeping the last dot-separated string, i.e. the sub-key `'swift2.classes.CompositeParameteriser.show_parameters'` becomes `'show_parameters'`. We do not need a more complicated algorithm that checks on the parent key of the sub-key to strip it from the sub-key. A possibly suitable strategy is to have a recursive python function to do this transformation, but I am open to your suggestions."
   ]
  },
  {
   "cell_type": "markdown",
   "metadata": {},
   "source": [
    "**AI Response**\n",
    "\n",
    "I see what you're trying to do! You want to transform your hierarchical dictionary to use shorter keys at each level, stripping away the fully qualified names.\n",
    "\n",
    "Let's create a recursive function to transform the dictionary. Here's an approach we can take:\n",
    "\n",
    "```python\n",
    "def shorten_keys(d, separator='.'):\n",
    "    \"\"\"\n",
    "    Recursively transform dictionary keys to use only the last part after the separator.\n",
    "    \n",
    "    Args:\n",
    "        d: Dictionary to transform\n",
    "        separator: Character that separates parts of the key (default '.')\n",
    "        \n",
    "    Returns:\n",
    "        New dictionary with shortened keys\n",
    "    \"\"\"\n",
    "    result = {}\n",
    "    \n",
    "    for key, value in d.items():\n",
    "        # Get the last part of the key after the separator\n",
    "        short_key = key.split(separator)[-1]\n",
    "        \n",
    "        # If value is a dictionary, recursively process it\n",
    "        if isinstance(value, dict):\n",
    "            result[short_key] = shorten_keys(value, separator)\n",
    "        else:\n",
    "            result[short_key] = value\n",
    "            \n",
    "    return result\n",
    "```\n",
    "\n",
    "Would you like to try implementing this function? Or would you prefer me to show how to use it with your specific `hdgs` dictionary?"
   ]
  },
  {
   "attachments": {},
   "cell_type": "markdown",
   "metadata": {},
   "source": [
    "OK, this looks sound, let's give this a try and look at the resulting nested dictionary"
   ]
  },
  {
   "cell_type": "code",
   "execution_count": null,
   "metadata": {
    "vscode": {
     "languageId": "python"
    }
   },
   "outputs": [],
   "source": [
    "def shorten_keys(d, separator='.'):\n",
    "    \"\"\"\n",
    "    Recursively transform dictionary keys to use only the last part after the separator.\n",
    "    \n",
    "    Args:\n",
    "        d: Dictionary to transform\n",
    "        separator: Character that separates parts of the key (default '.')\n",
    "        \n",
    "    Returns:\n",
    "        New dictionary with shortened keys\n",
    "    \"\"\"\n",
    "    result = {}\n",
    "    \n",
    "    for key, value in d.items():\n",
    "        # Get the last part of the key after the separator\n",
    "        short_key = key.split(separator)[-1]\n",
    "        \n",
    "        # If value is a dictionary, recursively process it\n",
    "        if isinstance(value, dict):\n",
    "            result[short_key] = shorten_keys(value, separator)\n",
    "        else:\n",
    "            result[short_key] = value\n",
    "            \n",
    "    return result\n",
    "\n",
    "new_hdgs = shorten_keys(hdgs)"
   ]
  },
  {
   "cell_type": "code",
   "execution_count": null,
   "metadata": {
    "vscode": {
     "languageId": "python"
    }
   },
   "outputs": [
    {
     "data": {
      "text/plain": [
       "{'add_parameter_to_hypercube': {},\n",
       " 'add_to_hypercube': {},\n",
       " 'append': {},\n",
       " 'apply_sys_config': {},\n",
       " 'as_dataframe': {},\n",
       " 'backtransform': {},\n",
       " 'clone': {},\n",
       " 'concatenate': {},\n",
       " 'create_parameter_sampler': {},\n",
       " 'empty_composite': {},\n",
       " 'filtered_parameters': {},\n",
       " 'from_dataframe': {},\n",
       " 'hide_parameters': {},\n",
       " 'make_state_init_parameteriser': {},\n",
       " 'num_free_parameters': {},\n",
       " 'score_for_objective': {},\n",
       " 'set_hypercube': {},\n",
       " 'set_max_parameter_value': {},\n",
       " 'set_min_parameter_value': {},\n",
       " 'set_parameter_definition': {},\n",
       " 'set_parameter_value': {},\n",
       " 'show_parameters': {},\n",
       " 'subcatchment_parameteriser': {},\n",
       " 'supports_thread_safe_cloning': {},\n",
       " 'wrap_transform': {}}"
      ]
     },
     "execution_count": null,
     "metadata": {},
     "output_type": "execute_result"
    }
   ],
   "source": [
    "new_hdgs['swift2']['classes']['CompositeParameteriser']"
   ]
  },
  {
   "attachments": {},
   "cell_type": "markdown",
   "metadata": {},
   "source": [
    "OK, this looks good. Now let us look at the dictionary that also includes the content, and flattens the markdown hierarchy\n",
    "\n",
    "## Massaging the dictionary of API content"
   ]
  },
  {
   "cell_type": "code",
   "execution_count": null,
   "metadata": {
    "vscode": {
     "languageId": "python"
    }
   },
   "outputs": [],
   "source": [
    "hdict = markdown_to_dict(text)"
   ]
  },
  {
   "cell_type": "code",
   "execution_count": null,
   "metadata": {
    "vscode": {
     "languageId": "python"
    }
   },
   "outputs": [
    {
     "data": {
      "text/plain": [
       "['swift2',\n",
       " 'swift2.swift2classes',\n",
       " 'swift2.swift2classes.swift2classesCandidateFactorySeed',\n",
       " 'swift2.swift2classes.swift2classesCompositeParameteriser',\n",
       " 'swift2.swift2classes.swift2classesCompositeParameteriser.swift2classesCompositeParameteriseraddparametertohypercube',\n",
       " 'swift2.swift2classes.swift2classesCompositeParameteriser.swift2classesCompositeParameteriseraddtohypercube',\n",
       " 'swift2.swift2classes.swift2classesCompositeParameteriser.swift2classesCompositeParameteriserappend',\n",
       " 'swift2.swift2classes.swift2classesCompositeParameteriser.swift2classesCompositeParameteriserapplysysconfig',\n",
       " 'swift2.swift2classes.swift2classesCompositeParameteriser.swift2classesCompositeParameteriserasdataframe',\n",
       " 'swift2.swift2classes.swift2classesCompositeParameteriser.swift2classesCompositeParameteriserbacktransform']"
      ]
     },
     "execution_count": null,
     "metadata": {},
     "output_type": "execute_result"
    }
   ],
   "source": [
    "first_subsections = list(hdict.keys())[:10]\n",
    "first_subsections"
   ]
  },
  {
   "cell_type": "code",
   "execution_count": null,
   "metadata": {
    "vscode": {
     "languageId": "python"
    }
   },
   "outputs": [
    {
     "name": "stdout",
     "output_type": "stream",
     "text": [
      "##### swift2.classes.CompositeParameteriser.add_parameter_to_hypercube\n",
      "\n",
      "```python\n",
      "add_parameter_to_hypercube(name, value, min, max)\n",
      "```\n",
      "\n",
      "Add a parameter to a hypercube. Must be a type of object that is expandable, otherwise may raise an exception\n"
     ]
    }
   ],
   "source": [
    "print(hdict['swift2.swift2classes.swift2classesCompositeParameteriser.swift2classesCompositeParameteriseraddparametertohypercube'])"
   ]
  },
  {
   "cell_type": "markdown",
   "metadata": {},
   "source": [
    "**AI Prompt**\n",
    "\n",
    "The implementation of the function `markdown_to_dict` is as follows:\n",
    "\n",
    "```python\n",
    "import re\n",
    "from fastcore.utils import dict2obj\n",
    "\n",
    "def markdown_to_dict(markdown_content:str):\n",
    "    def clean_heading(text): return re.sub(r'[^A-Za-z0-9 ]+', '', text).strip()\n",
    "\n",
    "    lines = markdown_content.splitlines()\n",
    "    headings = []\n",
    "    in_code_block = False\n",
    "\n",
    "    # Parse headings with their levels and line numbers\n",
    "    for idx, line in enumerate(lines):\n",
    "        # Toggle code block state when encountering fence\n",
    "        if line.strip().startswith('```'): in_code_block = not in_code_block\n",
    "        \n",
    "        # Only detect headings when not in a code block\n",
    "        if in_code_block: continue\n",
    "        match = re.match(r'^(#{1,6})\\s*(.*)', line)\n",
    "        if match:\n",
    "            level = len(match.group(1))\n",
    "            text = match.group(2).strip()\n",
    "            headings.append({'level': level, 'text': text, 'line': idx})\n",
    "\n",
    "    # Assign content to each heading, including subheadings\n",
    "    for i, h in enumerate(headings):\n",
    "        start = h['line']  # Include the heading line itself\n",
    "        # Find the end index: next heading of same or higher level\n",
    "        for j in range(i + 1, len(headings)):\n",
    "            if headings[j]['level'] <= h['level']:\n",
    "                end = headings[j]['line']\n",
    "                break\n",
    "        else: end = len(lines)\n",
    "        h['content'] = '\\n'.join(lines[start:end]).strip()\n",
    "\n",
    "    # Build the dictionary with hierarchical keys\n",
    "    result,stack = {},[]\n",
    "    first_level = headings[0]['level']\n",
    "    for h in headings:\n",
    "        stack = stack[:h['level'] - first_level] + [clean_heading(h['text'])]\n",
    "        key = '.'.join(stack)\n",
    "        result[key] = h['content']\n",
    "    return dict2obj(result)\n",
    "```\n",
    "\n",
    "Now we observe that if we apply this function to the following string:\n",
    "\n",
    "```python\n",
    "text_raw=\"\"\"\n",
    "## swift2\n",
    "\n",
    "Python interface to the SWIFT2 streamflow simulation and forecasting libraries.\n",
    "\n",
    "**Modules:**\n",
    "\n",
    "- [**classes**](#swift2.classes) –\n",
    "\n",
    "### swift2.classes\n",
    "\n",
    "**Classes:**\n",
    "\n",
    "- [**CandidateFactorySeed**](#swift2.classes.CandidateFactorySeed) –\n",
    "- [**CompositeParameteriser**](#swift2.classes.CompositeParameteriser) – A parameteriser defined as the concatenation of several parameterisers\n",
    "\n",
    "#### swift2.classes.CandidateFactorySeed\n",
    "\n",
    "Bases: [DeletableCffiNativeHandle](#refcount.interop.DeletableCffiNativeHandle)\n",
    "\n",
    "#### swift2.classes.CompositeParameteriser\n",
    "\n",
    "Bases: [HypercubeParameteriser](#swift2.classes.HypercubeParameteriser)\n",
    "\n",
    "A parameteriser defined as the concatenation of several parameterisers\n",
    "\n",
    "**Functions:**\n",
    "\n",
    "- [**add_parameter_to_hypercube**](#swift2.classes.CompositeParameteriser.add_parameter_to_hypercube) – Add a parameter to a hypercube. Must be a type of object that is expandable, otherwise may raise an exception\n",
    "\n",
    "##### swift2.classes.CompositeParameteriser.add_parameter_to_hypercube\n",
    "\n",
    "Add a parameter to a hypercube. Must be a type of object that is expandable, otherwise may raise an exception\n",
    "\"\"\"\n",
    "\n",
    "dict_sections = markdown_to_dict(text_raw)\n",
    "```\n",
    "\n",
    "Resulting from `markdown_to_dict`, `dict_sections` has a key 'swift2.swift2classes.swift2classesCompositeParameteriser.swift2classesCompositeParameteriseraddparametertohypercube', but what I want is `dict_sections` such that the key is 'swift2.classes.CompositeParameteriser.add_parameter_to_hypercube'. Can you propose a modified `markdown_to_dict` such that I end up with the latter key, the fully qualified python name of the function `swift2.classes.CompositeParameteriser.add_parameter_to_hypercube`?"
   ]
  },
  {
   "cell_type": "markdown",
   "metadata": {},
   "source": [
    "**AI Response**\n",
    "\n",
    "I see the issue with the current `markdown_to_dict` function. It's creating keys by cleaning the heading text (removing special characters) and then joining them, which results in those long concatenated keys without proper module structure.\n",
    "\n",
    "Let's modify the function to preserve the original heading structure instead of cleaning it. Here's an approach:\n",
    "\n",
    "```python\n",
    "import re\n",
    "from fastcore.utils import dict2obj\n",
    "\n",
    "def markdown_to_dict(markdown_content:str):\n",
    "    lines = markdown_content.splitlines()\n",
    "    headings = []\n",
    "    in_code_block = False\n",
    "\n",
    "    # Parse headings with their levels and line numbers\n",
    "    for idx, line in enumerate(lines):\n",
    "        # Toggle code block state when encountering fence\n",
    "        if line.strip().startswith('```'): \n",
    "            in_code_block = not in_code_block\n",
    "        \n",
    "        # Only detect headings when not in a code block\n",
    "        if in_code_block: \n",
    "            continue\n",
    "            \n",
    "        match = re.match(r'^(#{1,6})\\s*(.*)', line)\n",
    "        if match:\n",
    "            level = len(match.group(1))\n",
    "            text = match.group(2).strip()\n",
    "            headings.append({'level': level, 'text': text, 'line': idx})\n",
    "\n",
    "    # Assign content to each heading, including subheadings\n",
    "    for i, h in enumerate(headings):\n",
    "        start = h['line']  # Include the heading line itself\n",
    "        # Find the end index: next heading of same or higher level\n",
    "        for j in range(i + 1, len(headings)):\n",
    "            if headings[j]['level'] <= h['level']:\n",
    "                end = headings[j]['line']\n",
    "                break\n",
    "        else: \n",
    "            end = len(lines)\n",
    "        h['content'] = '\\n'.join(lines[start:end]).strip()\n",
    "\n",
    "    # Build the dictionary with hierarchical keys\n",
    "    result = {}\n",
    "    for h in headings:\n",
    "        # Use the original heading text as the key directly\n",
    "        # This preserves the fully qualified names like \"swift2.classes.CompositeParameteriser.add_parameter_to_hypercube\"\n",
    "        key = h['text']\n",
    "        result[key] = h['content']\n",
    "        \n",
    "    return dict2obj(result)\n",
    "```\n",
    "\n",
    "Would you like me to explain how this differs from the original implementation, or would you prefer to test it first?"
   ]
  },
  {
   "cell_type": "code",
   "execution_count": null,
   "metadata": {
    "vscode": {
     "languageId": "python"
    }
   },
   "outputs": [],
   "source": [
    "import re\n",
    "from fastcore.utils import dict2obj\n",
    "\n",
    "def my_markdown_to_dict(markdown_content:str):\n",
    "    lines = markdown_content.splitlines()\n",
    "    headings = []\n",
    "    in_code_block = False\n",
    "\n",
    "    # Parse headings with their levels and line numbers\n",
    "    for idx, line in enumerate(lines):\n",
    "        # Toggle code block state when encountering fence\n",
    "        if line.strip().startswith('```'): \n",
    "            in_code_block = not in_code_block\n",
    "        \n",
    "        # Only detect headings when not in a code block\n",
    "        if in_code_block: \n",
    "            continue\n",
    "            \n",
    "        match = re.match(r'^(#{1,6})\\s*(.*)', line)\n",
    "        if match:\n",
    "            level = len(match.group(1))\n",
    "            text = match.group(2).strip()\n",
    "            headings.append({'level': level, 'text': text, 'line': idx})\n",
    "\n",
    "    # Assign content to each heading, including subheadings\n",
    "    for i, h in enumerate(headings):\n",
    "        start = h['line']  # Include the heading line itself\n",
    "        # Find the end index: next heading of same or higher level\n",
    "        for j in range(i + 1, len(headings)):\n",
    "            if headings[j]['level'] <= h['level']:\n",
    "                end = headings[j]['line']\n",
    "                break\n",
    "        else: \n",
    "            end = len(lines)\n",
    "        h['content'] = '\\n'.join(lines[start:end]).strip()\n",
    "\n",
    "    # Build the dictionary with hierarchical keys\n",
    "    result = {}\n",
    "    for h in headings:\n",
    "        # Use the original heading text as the key directly\n",
    "        # This preserves the fully qualified names like \"swift2.classes.CompositeParameteriser.add_parameter_to_hypercube\"\n",
    "        key = h['text']\n",
    "        result[key] = h['content']\n",
    "        \n",
    "    return dict2obj(result)"
   ]
  },
  {
   "cell_type": "code",
   "execution_count": null,
   "metadata": {
    "vscode": {
     "languageId": "python"
    }
   },
   "outputs": [],
   "source": [
    "text_raw=\"\"\"\n",
    "## swift2\n",
    "\n",
    "Python interface to the SWIFT2 streamflow simulation and forecasting libraries.\n",
    "\n",
    "**Modules:**\n",
    "\n",
    "- [**classes**](#swift2.classes) –\n",
    "\n",
    "### swift2.classes\n",
    "\n",
    "**Classes:**\n",
    "\n",
    "- [**CandidateFactorySeed**](#swift2.classes.CandidateFactorySeed) –\n",
    "- [**CompositeParameteriser**](#swift2.classes.CompositeParameteriser) – A parameteriser defined as the concatenation of several parameterisers\n",
    "\n",
    "#### swift2.classes.CandidateFactorySeed\n",
    "\n",
    "Bases: [DeletableCffiNativeHandle](#refcount.interop.DeletableCffiNativeHandle)\n",
    "\n",
    "#### swift2.classes.CompositeParameteriser\n",
    "\n",
    "Bases: [HypercubeParameteriser](#swift2.classes.HypercubeParameteriser)\n",
    "\n",
    "A parameteriser defined as the concatenation of several parameterisers\n",
    "\n",
    "**Functions:**\n",
    "\n",
    "- [**add_parameter_to_hypercube**](#swift2.classes.CompositeParameteriser.add_parameter_to_hypercube) – Add a parameter to a hypercube. Must be a type of object that is expandable, otherwise may raise an exception\n",
    "\n",
    "##### swift2.classes.CompositeParameteriser.add_parameter_to_hypercube\n",
    "\n",
    "Add a parameter to a hypercube. Must be a type of object that is expandable, otherwise may raise an exception\n",
    "\"\"\"\n",
    "\n",
    "new_hdict = my_markdown_to_dict(text_raw)"
   ]
  },
  {
   "cell_type": "code",
   "execution_count": null,
   "metadata": {
    "vscode": {
     "languageId": "python"
    }
   },
   "outputs": [
    {
     "name": "stdout",
     "output_type": "stream",
     "text": [
      "['swift2', 'swift2.classes', 'swift2.classes.CandidateFactorySeed', 'swift2.classes.CompositeParameteriser', 'swift2.classes.CompositeParameteriser.add_parameter_to_hypercube']\n"
     ]
    }
   ],
   "source": [
    "print(list(new_hdict.keys()))"
   ]
  },
  {
   "cell_type": "code",
   "execution_count": null,
   "metadata": {
    "vscode": {
     "languageId": "python"
    }
   },
   "outputs": [
    {
     "name": "stdout",
     "output_type": "stream",
     "text": [
      "##### swift2.classes.CompositeParameteriser.add_parameter_to_hypercube\n",
      "\n",
      "Add a parameter to a hypercube. Must be a type of object that is expandable, otherwise may raise an exception\n"
     ]
    }
   ],
   "source": [
    "print(new_hdict['swift2.classes.CompositeParameteriser.add_parameter_to_hypercube'])"
   ]
  },
  {
   "attachments": {},
   "cell_type": "markdown",
   "metadata": {},
   "source": [
    "OK, looking good, I think we may have a winner to process the API doc produced by griffe..."
   ]
  }
 ],
 "metadata": {
  "kernelspec": {
   "display_name": "python3",
   "language": "python",
   "name": "python3"
  }
 },
 "nbformat": 4,
 "nbformat_minor": 4
}
