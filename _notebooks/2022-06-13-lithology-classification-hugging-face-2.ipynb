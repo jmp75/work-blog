{
 "cells": [
  {
   "cell_type": "markdown",
   "id": "75eb2741-eac7-4dd9-9f9a-0ccd5695130e",
   "metadata": {},
   "source": [
    "# Lithology classification using Hugging Face, part 2\n",
    "> Exploring the use of NLP to exploit geologic information. Trying to classify lithologies.\n",
    "\n",
    "- toc: true\n",
    "- badges: true\n",
    "- comments: true\n",
    "- categories: [hugging-face, NLP, lithology]\n",
    "- author: J-M\n"
   ]
  },
  {
   "cell_type": "markdown",
   "id": "5dd6a152-fc40-430f-bcc3-b4d88116a991",
   "metadata": {},
   "source": [
    "# About\n",
    "\n",
    "This is a continuation of [Lithology classification using Hugging Face, part 1](https://jmp75.github.io/work-blog/hugging-face/nlp/lithology/2022/06/01/lithology-classification-hugging-face.html).\n",
    "\n",
    "We saw in the previous post that the Namoi lithology logs data had their primary (major) lithology mostly completed. A substantial proportion had the label `None` nevertheless, despite descriptions that looked like they would obviously lead to a categorisation. There were many labels, with a long-tailed frequency histogram.\n",
    "\n",
    "The aim of this post is (was) to get a classification training happening.\n",
    "\n",
    "__Spoiler alert: it won't__. Almost.\n",
    "\n",
    "Rather than write a post after the fact pretending it was a totally smooth journey, the following walktrough _deliberately_ keeps and highlights issues, albeit succinctly. **Don't** jump to the conclusion that we will not get there eventually, or that Hugging Face is not good. When you adapt prior work to your own use case, you **will** likely stumble, so this post will make you feel in good company."
   ]
  },
  {
   "cell_type": "markdown",
   "id": "6df380d1",
   "metadata": {},
   "source": [
    "# Kernel installation\n",
    "\n",
    "The previous post was about data exploration and used mostly facilities such as pandas, not any deep learning related material. This post will, so we need to install Hugging Face. I did bump into a couple of issues while trying to get an environment going. I will not give the full grubby details, but highlight upfront a couple of things:\n",
    "\n",
    "* Do create a new dedicated conda environment for your work with Hugging Face, even if you already have an environment with e.g. pytorch you'd like to reuse.\n",
    "* The version 4.11.3 of HF `transformers` on the conda channel `huggingface`, at the time of writing, has a [bug](https://github.com/nlp-with-transformers/notebooks/issues/31). You should install the packages from the `conda-forge` channel.\n",
    "\n",
    "In a nutshell, for Linux:\n",
    "\n",
    "```sh\n",
    "myenv=hf\n",
    "mamba create -n $myenv python=3.9 -c conda-forge\n",
    "mamba install -n $myenv --yes ipykernel matplotlib sentencepiece scikit-learn -c conda-forge\n",
    "mamba install -n $myenv --yes pytorch=1.11 -c pytorch -c nvidia -c conda-forge\n",
    "mamba install -n $myenv --yes torchvision torchaudio -c pytorch -c nvidia -c conda-forge\n",
    "mamba install -n $myenv --yes -c conda-forge datasets transformers\n",
    "conda activate $myenv\n",
    "python -m ipykernel install --user --name $myenv --display-name \"Hugging Face\"\n",
    "```\n",
    "\n",
    "and in Windows:\n",
    "\n",
    "```bat\n",
    "set myenv=hf\n",
    "mamba create -n %myenv% python=3.9 -c conda-forge\n",
    "mamba install -n %myenv% --yes ipykernel matplotlib sentencepiece scikit-learn -c conda-forge\n",
    "mamba install -n %myenv% --yes pytorch=1.11 -c pytorch -c nvidia -c conda-forge\n",
    "mamba install -n %myenv% --yes torchvision torchaudio -c pytorch -c nvidia -c conda-forge\n",
    "mamba install -n %myenv% --yes -c conda-forge datasets transformers\n",
    "conda activate %myenv%\n",
    "python -m ipykernel install --user --name %myenv% --display-name \"Hugging Face\"\n",
    "```\n"
   ]
  },
  {
   "cell_type": "markdown",
   "id": "022875ce",
   "metadata": {},
   "source": [
    "# Walkthrough\n",
    "\n",
    "Let's get on with all the imports upfront (not obvious, mind you, but after the fact...)"
   ]
  },
  {
   "cell_type": "code",
   "execution_count": null,
   "id": "bab780c4-075b-4bd8-8882-677a5fe59c30",
   "metadata": {},
   "outputs": [],
   "source": [
    "import numpy as np\n",
    "import pandas as pd\n",
    "import torch\n",
    "from datasets import Dataset\n",
    "from transformers import AutoModelForSequenceClassification, AutoTokenizer\n",
    "from pathlib import Path\n",
    "from datasets import ClassLabel\n",
    "from transformers import TrainingArguments, Trainer\n",
    "from sklearn.metrics import f1_score\n",
    "from collections import Counter\n",
    "\n",
    "# Some column string identifiers\n",
    "MAJOR_CODE = \"MajorLithCode\"\n",
    "MAJOR_CODE_INT = \"MajorLithoCodeInt\"  # We will create a numeric representation of labels, which is (I think?) required by HF.\n",
    "MINOR_CODE = \"MinorLithCode\"\n",
    "DESC = \"Description\""
   ]
  },
  {
   "cell_type": "code",
   "execution_count": null,
   "id": "d636dc61-9628-4ad5-8e3d-559e2b7b82b2",
   "metadata": {
    "lines_to_next_cell": 2
   },
   "outputs": [],
   "source": [
    "fn = Path(\"~\").expanduser() / \"data/ela/shp_namoi_river/NGIS_LithologyLog.csv\"\n",
    "litho_logs = pd.read_csv(\n",
    "    fn, dtype={\"FromDepth\": str, \"ToDepth\": str, MAJOR_CODE: str, MINOR_CODE: str}\n",
    ")\n",
    "\n",
    "# To avoid importing from the ela package, copy a couple of functions:\n",
    "# from ela.textproc import token_freq, plot_freq\n",
    "\n",
    "\n",
    "def token_freq(tokens, n_most_common=50):\n",
    "    list_most_common = Counter(tokens).most_common(n_most_common)\n",
    "    return pd.DataFrame(list_most_common, columns=[\"token\", \"frequency\"])\n",
    "\n",
    "\n",
    "def plot_freq(dataframe, y_log=False, x=\"token\", figsize=(15, 10), fontsize=14):\n",
    "    \"\"\"Plot a sorted histogram of work frequencies\n",
    "\n",
    "    Args:\n",
    "        dataframe (pandas dataframe): frequency of tokens, typically with colnames [\"token\",\"frequency\"]\n",
    "        y_log (bool): should there be a log scale on the y axis\n",
    "        x (str): name of the columns with the tokens (i.e. words)\n",
    "        figsize (tuple):\n",
    "        fontsize (int):\n",
    "\n",
    "    Returns:\n",
    "        barplot: plot\n",
    "\n",
    "    \"\"\"\n",
    "    p = dataframe.plot.bar(x=x, figsize=figsize, fontsize=fontsize)\n",
    "    if y_log:\n",
    "        p.set_yscale(\"log\", nonposy=\"clip\")\n",
    "    return p\n",
    "\n",
    "\n",
    "litho_classes = litho_logs[MAJOR_CODE].values\n",
    "df_most_common = token_freq(litho_classes, 50)\n",
    "plot_freq(df_most_common)"
   ]
  },
  {
   "cell_type": "markdown",
   "id": "04f1cb62-dbb2-4a4c-8d1a-67a61b7aee00",
   "metadata": {
    "lines_to_next_cell": 2
   },
   "source": [
    "\n",
    "## Imbalanced data sets\n",
    "\n",
    "From the histogram above, it is pretty clear that labels are also not uniform an we have a class imbalance. Remember to skim [Lithology classification using Hugging Face, part 1](https://jmp75.github.io/work-blog/hugging-face/nlp/lithology/2022/06/01/lithology-classification-hugging-face.html) for the initial data exploration if you have not done so already.\n",
    "\n",
    "For the sake of the exercise in this post, I will reduce arbitrarily the number of labels used in this post, by just \"forgetting\" the less represented classes.\n",
    "\n",
    "There are many resources about class imbalances. One of them is [8 Tactics to combat imbalanced classes in your machine learning dataset](https://machinelearningmastery.com/tactics-to-combat-imbalanced-classes-in-your-machine-learning-dataset)\n",
    "\n",
    "Let's see what labels we may want to keep for this post:\n"
   ]
  },
  {
   "cell_type": "code",
   "execution_count": null,
   "id": "14539625-66ca-4ec7-971e-73859f5aa579",
   "metadata": {},
   "outputs": [],
   "source": [
    "def sample_desc_for_code(major_code, n=50, seed=None):\n",
    "    is_code = litho_logs[MAJOR_CODE] == major_code\n",
    "    coded = litho_logs.loc[is_code][DESC]\n",
    "    if seed is not None:\n",
    "        np.random.seed(seed)\n",
    "    return coded.sample(n=50)"
   ]
  },
  {
   "cell_type": "code",
   "execution_count": null,
   "id": "2341f6d3-3216-4223-9428-41aad2ff098e",
   "metadata": {},
   "outputs": [],
   "source": [
    "sample_desc_for_code(\"UNKN\", seed=123)"
   ]
  },
  {
   "cell_type": "markdown",
   "id": "189ce333-8dfd-443f-8e51-edbacfdbb8ec",
   "metadata": {},
   "source": [
    "The \"unknown\" category is rather interesting in fact, and worth keeping as a valid class."
   ]
  },
  {
   "cell_type": "markdown",
   "id": "e2f1111b-199d-42f6-90da-159cf7b2ff21",
   "metadata": {},
   "source": [
    "## Subsetting\n",
    "\n",
    "Let's keep \"only\" the main labels, for the sake of this exercise. We will remove None however, despite its potential interest. We will (hopefully) revisit this in another post."
   ]
  },
  {
   "cell_type": "code",
   "execution_count": null,
   "id": "ed9845e0-dd92-435c-b3df-9117254ca549",
   "metadata": {},
   "outputs": [],
   "source": [
    "labels_kept = df_most_common[\"token\"][:17].values  # 17 first classes somewhat arbitraty\n",
    "labels_kept = labels_kept[labels_kept != \"None\"]\n",
    "labels_kept"
   ]
  },
  {
   "cell_type": "code",
   "execution_count": null,
   "id": "2eeca839",
   "metadata": {
    "lines_to_next_cell": 2
   },
   "outputs": [],
   "source": [
    "kept = [x in labels_kept for x in litho_classes]\n",
    "litho_logs_kept = litho_logs[kept].copy()  # avoid warning messages down the track.\n",
    "litho_logs_kept.sample(10)"
   ]
  },
  {
   "cell_type": "code",
   "execution_count": null,
   "id": "770b0665-1158-478f-ab2c-3bbb753f363d",
   "metadata": {},
   "outputs": [],
   "source": [
    "labels = ClassLabel(names=labels_kept)\n",
    "int_labels = np.array([\n",
    "    labels.str2int(x) for x in litho_logs_kept[MAJOR_CODE].values\n",
    "])\n",
    "int_labels = int_labels.astype(np.int8) # to mimick chapter3 HF so far as I can see"
   ]
  },
  {
   "cell_type": "code",
   "execution_count": null,
   "id": "31a836a8-f4c0-4fad-970d-081936a2181b",
   "metadata": {
    "lines_to_next_cell": 1
   },
   "outputs": [],
   "source": [
    "litho_logs_kept[MAJOR_CODE_INT] = int_labels"
   ]
  },
  {
   "cell_type": "markdown",
   "id": "8b12cf53-a316-4107-8769-3112762cc4b3",
   "metadata": {
    "tags": []
   },
   "source": [
    "## Class imbalance\n",
    "\n",
    "Even our subset of 16 classes is rather imbalanced; the number of \"clay\" labels is looking more than 30 times that of \"coal\" just by eyeballing.\n",
    "\n",
    "The post by Jason Brownlee [8 Tactics to Combat Imbalanced Classes in Your Machine Learning Dataset](https://machinelearningmastery.com/tactics-to-combat-imbalanced-classes-in-your-machine-learning-dataset), outlines several approaches. One of them is to resample from labels, perhaps with replacement, to equalise classes. It is a relatively easy approach to implement, but there are issues, growing with the level of imbalance. Notably, if too many rows from underrepresented classes are repeated, there is an increased tendency to overfitting at training.\n",
    "\n",
    "The video [Simple Training with the 🤗 Transformers Trainer (at 669 seconds)](https://youtu.be/u--UVvH-LIQ?t=669) also explains the issues with imbalances and crude resampling. It offers instead a solution with class weighting that is more robust. That approach is evoked in Jason's post, but the video has a \"Hugging Face style\" implementation ready to repurpose.\n",
    "\n",
    "### Resample with replacement\n",
    "\n",
    "Just for information, what we'd do with a relatively crude resampling may be:\n"
   ]
  },
  {
   "cell_type": "code",
   "execution_count": null,
   "id": "6b1b392e",
   "metadata": {},
   "outputs": [],
   "source": [
    "def sample_major_lithocode(dframe, code, n=10000, seed=None):\n",
    "    x = dframe[dframe[MAJOR_CODE] == code]\n",
    "    replace = n > len(x)\n",
    "    return x.sample(n=n, replace=replace, random_state=seed)"
   ]
  },
  {
   "cell_type": "code",
   "execution_count": null,
   "id": "4f04f51e",
   "metadata": {},
   "outputs": [],
   "source": [
    "sample_major_lithocode(litho_logs_kept, \"CLAY\", n=10, seed=0)"
   ]
  },
  {
   "cell_type": "code",
   "execution_count": null,
   "id": "277c7c1c-d26d-4ac8-acb7-466fd68fae0c",
   "metadata": {
    "tags": []
   },
   "outputs": [],
   "source": [
    "balanced_litho_logs = [\n",
    "    sample_major_lithocode(litho_logs_kept, code, n=10000, seed=0)\n",
    "    for code in labels_kept\n",
    "]\n",
    "balanced_litho_logs = pd.concat(balanced_litho_logs)\n",
    "balanced_litho_logs.head()"
   ]
  },
  {
   "cell_type": "code",
   "execution_count": null,
   "id": "77d079a6",
   "metadata": {},
   "outputs": [],
   "source": [
    "plot_freq(token_freq(balanced_litho_logs[MAJOR_CODE].values, 50))"
   ]
  },
  {
   "cell_type": "markdown",
   "id": "e3b39071-76bc-47be-9ed0-e43aaa5030ac",
   "metadata": {
    "tags": []
   },
   "source": [
    "### Dealing with imbalanced classes with weights\n",
    "\n",
    "Instead of the resampling above, we adapt the approach creating weights for the Trainer we will run.\n"
   ]
  },
  {
   "cell_type": "code",
   "execution_count": null,
   "id": "ba803906-962a-45b5-beb7-3293b30e0a9a",
   "metadata": {},
   "outputs": [],
   "source": [
    "sorted_counts = litho_logs_kept[MAJOR_CODE].value_counts()\n",
    "sorted_counts"
   ]
  },
  {
   "cell_type": "code",
   "execution_count": null,
   "id": "61a0c271-e04b-4a10-89cf-b175bcab4c09",
   "metadata": {},
   "outputs": [],
   "source": [
    "sorted_counts / sorted_counts.sum()"
   ]
  },
  {
   "cell_type": "code",
   "execution_count": null,
   "id": "085e9d3f-7a35-4f93-8371-3e5b883b8536",
   "metadata": {},
   "outputs": [],
   "source": [
    "class_weights = (1 - sorted_counts / sorted_counts.sum()).values\n",
    "class_weights"
   ]
  },
  {
   "cell_type": "markdown",
   "id": "09109458",
   "metadata": {
    "tags": []
   },
   "source": [
    "\n",
    "We check that cuda is available (of course optional)\n"
   ]
  },
  {
   "cell_type": "code",
   "execution_count": null,
   "id": "cc787f1f-882e-46d4-9a51-95c7b0396b0c",
   "metadata": {},
   "outputs": [],
   "source": [
    "assert torch.cuda.is_available()"
   ]
  },
  {
   "cell_type": "markdown",
   "id": "eaa5d9b1",
   "metadata": {
    "lines_to_next_cell": 2,
    "tags": []
   },
   "source": [
    "\n",
    "On Linux if you have a DELL laptop with an NVIDIA card, but `nvidia-smi` returns: `NVIDIA-SMI has failed because it couldn't communicate with the NVIDIA driver. Make sure that the latest NVIDIA driver is installed and running`, you may need to change your kernel specification file $HOME/.local/share/jupyter/kernels/hf/kernel.json. This behavior seems to depend on the version of Linux kernel you have. It certainly changed out of the blue for me from yesterday, despite no change that I can tell.\n",
    "\n",
    "`optirun nvidia-smi` returning a proper graphic card report should be a telltale sign you have to update your kernel.json like so:\n",
    "\n",
    "```json\n",
    "{\n",
    " \"argv\": [\n",
    "  \"optirun\",\n",
    "  \"/home/your_ident/miniconda/envs/hf/bin/python\",\n",
    "  \"-m\",\n",
    "  \"ipykernel_launcher\",\n",
    "  \"-f\",\n",
    "  \"{connection_file}\"\n",
    " ],\n",
    " \"display_name\": \"Hugging Face\",\n",
    " \"language\": \"python\",\n",
    " \"metadata\": {\n",
    "  \"debugger\": true\n",
    " }\n",
    "}\n",
    "```\n",
    "\n",
    "You may need to restart jupyter-lab, or visual studio code, etc., for change to take effect. Restarting the kernel may not be enough, conter-intuitively.\n",
    "\n",
    "Background details about optirun architecture at [Bumblebee Debian]https://wiki.debian.org/Bumblebee"
   ]
  },
  {
   "cell_type": "code",
   "execution_count": null,
   "id": "06c1451d-db34-4335-9db3-0745f1e859c5",
   "metadata": {},
   "outputs": [],
   "source": [
    "class_weights = torch.from_numpy(class_weights).float().to(\"cuda\")\n",
    "class_weights"
   ]
  },
  {
   "cell_type": "code",
   "execution_count": null,
   "id": "533be356",
   "metadata": {},
   "outputs": [],
   "source": [
    "model_nm = \"microsoft/deberta-v3-small\""
   ]
  },
  {
   "cell_type": "markdown",
   "id": "f7f2e199-d4fe-4077-8a2a-eda4e5aee6f9",
   "metadata": {},
   "source": [
    "\n",
    "## Tokenisation\n",
    "\n",
    "### Bump on the road; download operations taking too long\n",
    "\n",
    "At this point I spent more hours than I wish I had on an issue, perhaps very unusual.\n",
    "\n",
    "The operation `tokz = AutoTokenizer.from_pretrained(model_nm)` was taking an awful long time to complete:\n",
    "\n",
    "```text\n",
    "CPU times: user 504 ms, sys: 57.9 ms, total: 562 ms\n",
    "Wall time: 14min 13s\n",
    "```\n",
    "\n",
    "To cut a long story short, I managed to figure out what was going on. It is documented on the Hugging Face forum at: [Some HF operations take an excessively long time to complete](https://discuss.huggingface.co/t/some-hf-operations-take-an-excessively-long-time-to-complete/18986). If you have issues where HF operations take a long time, read it.\n",
    "\n",
    "Now back to the tokenisation story. Note that the local caching may be superflous if you do not encounter the issue just mentioned."
   ]
  },
  {
   "cell_type": "code",
   "execution_count": null,
   "id": "9fa5cae0-5732-408c-90f7-4d668a810889",
   "metadata": {},
   "outputs": [],
   "source": [
    "max_length = 128"
   ]
  },
  {
   "cell_type": "code",
   "execution_count": null,
   "id": "0ffcb883-d2c9-405f-a448-e0688efa9efd",
   "metadata": {},
   "outputs": [],
   "source": [
    "p = Path(\"./tokz_pretrained\")\n",
    "pretrained_model_name_or_path = p if p.exists() else model_nm\n",
    "# https://discuss.huggingface.co/t/sentence-transformers-paraphrase-minilm-fine-tuning-error/9612/4\n",
    "tokz = AutoTokenizer.from_pretrained(pretrained_model_name_or_path, use_fast=True, max_length=max_length, model_max_length=max_length)\n",
    "if not p.exists():\n",
    "    tokz.save_pretrained(\"./tokz_pretrained\")"
   ]
  },
  {
   "cell_type": "markdown",
   "id": "a8e6b6a3-b2d8-4294-8249-8e7251b9e56b",
   "metadata": {},
   "source": [
    "Let's see what this does on a typical lithology description"
   ]
  },
  {
   "cell_type": "code",
   "execution_count": null,
   "id": "c65ccaab",
   "metadata": {},
   "outputs": [],
   "source": [
    "tokz.tokenize(\"CLAY, VERY SANDY\")"
   ]
  },
  {
   "cell_type": "markdown",
   "id": "479d50ae-36ea-455d-b7e0-9bc549a42746",
   "metadata": {},
   "source": [
    "Well, the vocabulary is probably case sensitive and all the descriptions being uppercase in the source data are likely problematic. Let's check what happens on lowercase descriptions:"
   ]
  },
  {
   "cell_type": "code",
   "execution_count": null,
   "id": "d2b977ef",
   "metadata": {},
   "outputs": [],
   "source": [
    "tokz.tokenize(\"clay, very sandy\")"
   ]
  },
  {
   "cell_type": "markdown",
   "id": "9ccf73fd-0f51-4091-a4b2-8cac9ea9f0a9",
   "metadata": {},
   "source": [
    "This looks better. So let's change the descriptions to lowercase; we are not loosing any relevent information in this case, I think."
   ]
  },
  {
   "cell_type": "code",
   "execution_count": null,
   "id": "4bd22306",
   "metadata": {},
   "outputs": [],
   "source": [
    "# note: no warnings because we used .copy() earlier to create litho_logs_kept\n",
    "litho_logs_kept[DESC] = litho_logs_kept[DESC].str.lower()"
   ]
  },
  {
   "cell_type": "code",
   "execution_count": null,
   "id": "bf5876f5",
   "metadata": {
    "lines_to_next_cell": 2
   },
   "outputs": [],
   "source": [
    "litho_logs_kept_mini = litho_logs_kept[[MAJOR_CODE_INT, DESC]]\n",
    "litho_logs_kept_mini.sample(n=10)"
   ]
  },
  {
   "cell_type": "markdown",
   "id": "2e707b64",
   "metadata": {},
   "source": [
    "## Create dataset and tokenisation\n",
    "\n",
    "We want to create a dataset such that tokenised data is of uniform shape (better for running on GPU)\n",
    "Applying the technique in [this segment of the HF course video](https://youtu.be/_BZearw7f0w?list=PLo2EIpI_JMQvWfQndUesu0nPBAtZ9gP1o&t=150). Cheating a bit on guessing the length (I know from offline checks that max is 90 tokens)"
   ]
  },
  {
   "cell_type": "code",
   "execution_count": null,
   "id": "57c6cb10-d14f-4ec0-8068-ac96fe3ae7b1",
   "metadata": {},
   "outputs": [],
   "source": [
    "ds = Dataset.from_pandas(litho_logs_kept_mini)\n",
    "\n",
    "def tok_func(x):\n",
    "    return tokz(\n",
    "        x[DESC],\n",
    "        padding=\"max_length\",\n",
    "        truncation=True,\n",
    "        max_length=max_length,\n",
    "        return_tensors=\"pt\",\n",
    "    )"
   ]
  },
  {
   "cell_type": "markdown",
   "id": "a3577a23",
   "metadata": {},
   "source": [
    "The Youtube video above suggests to use `tok_ds = ds.map(tok_func, batched=True)` for a faster execution; however I ended up with the foollowing error:\n",
    "\n",
    "```text\n",
    "TypeError: Provided `function` which is applied to all elements of table returns a `dict` of types [<class 'torch.Tensor'>, <class 'torch.Tensor'>, <class 'torch.Tensor'>]. When using `batched=True`, make sure provided `function` returns a `dict` of types like `(<class 'list'>, <class 'numpy.ndarray'>)`.\n",
    "```\n",
    "\n",
    "The following non-batched option works in a reasonable time:"
   ]
  },
  {
   "cell_type": "code",
   "execution_count": null,
   "id": "cae491a9-4934-4703-8ce0-b29024d1804a",
   "metadata": {},
   "outputs": [],
   "source": [
    "tok_ds = ds.map(tok_func)"
   ]
  },
  {
   "cell_type": "code",
   "execution_count": null,
   "id": "0a5b8730",
   "metadata": {},
   "outputs": [],
   "source": [
    "tok_ds_tmp = tok_ds[:5]\n",
    "tok_ds_tmp.keys()"
   ]
  },
  {
   "cell_type": "code",
   "execution_count": null,
   "id": "0e9412e8",
   "metadata": {},
   "outputs": [],
   "source": [
    "# check the length of vectors is indeed 128:\n",
    "len(tok_ds_tmp[\"input_ids\"][0][0])"
   ]
  },
  {
   "cell_type": "code",
   "execution_count": null,
   "id": "000feb4d-7a37-4aa3-85b4-e28f562465d0",
   "metadata": {},
   "outputs": [],
   "source": [
    "num_labels = len(labels_kept)"
   ]
  },
  {
   "cell_type": "code",
   "execution_count": null,
   "id": "c78fa880-3100-492e-ac22-ea8b54420389",
   "metadata": {},
   "outputs": [],
   "source": [
    "# NOTE: the local caching may be superflous\n",
    "p = Path(\"./model_pretrained\")\n",
    "\n",
    "model_name = p if p.exists() else model_nm\n",
    "model = AutoModelForSequenceClassification.from_pretrained(model_name, num_labels=num_labels, max_length=max_length)\n",
    "                                                           # label2id=label2id, id2label=id2label).to(device) \n",
    "if not p.exists():\n",
    "    model.save_pretrained(p)"
   ]
  },
  {
   "cell_type": "code",
   "execution_count": null,
   "id": "ce1d88f6",
   "metadata": {
    "lines_to_next_cell": 2
   },
   "outputs": [],
   "source": [
    "print(type(model))"
   ]
  },
  {
   "cell_type": "code",
   "execution_count": null,
   "id": "3c718455",
   "metadata": {},
   "outputs": [],
   "source": [
    "# Different approach, but one that I am not sure how to progress to a hugging face Dataset. Borrowed from [this video](https://youtu.be/1pedAIvTWXk?list=PLo2EIpI_JMQvWfQndUesu0nPBAtZ9gP1o&t=143)\n",
    "# litho_desc_list = [x for x in litho_logs_kept_mini[DESC].values]\n",
    "# input_descriptions = tokz(litho_desc_list, padding=True, truncation=True, max_length=256, return_tensors='pt')\n",
    "# input_descriptions['input_ids'].shape\n",
    "# model(input_descriptions['input_ids'][:5,:], attention_mask=input_descriptions['attention_mask'][:5,:]).logits"
   ]
  },
  {
   "cell_type": "code",
   "execution_count": null,
   "id": "b9e9e2d1-eb58-4053-b220-057d134f05d2",
   "metadata": {},
   "outputs": [],
   "source": [
    "tok_ds"
   ]
  },
  {
   "cell_type": "markdown",
   "id": "8bd89184-769b-4a31-8773-eec4bd5be632",
   "metadata": {},
   "source": [
    "Transformers always assumes that your labels has the column name \"labels\". Odd, but at least this fosters a consistent system, so why not:"
   ]
  },
  {
   "cell_type": "code",
   "execution_count": null,
   "id": "96641167-e9a7-4317-8b6b-4f077e39254e",
   "metadata": {},
   "outputs": [],
   "source": [
    "tok_ds = tok_ds.rename_columns({MAJOR_CODE_INT: \"labels\"})"
   ]
  },
  {
   "cell_type": "code",
   "execution_count": null,
   "id": "449b2ff0-88d1-45d0-9c44-98379c090edc",
   "metadata": {},
   "outputs": [],
   "source": [
    "tok_ds = tok_ds.remove_columns(['Description', '__index_level_0__'])"
   ]
  },
  {
   "cell_type": "code",
   "execution_count": null,
   "id": "0779474c",
   "metadata": {},
   "outputs": [],
   "source": [
    "# We want to make sure we work on the GPU, so at least make sure we have torch tensors.\n",
    "# Note that HF is supposed to take care of movind data to the GPU if available, so you should not ahve to manually copy the data to the GPU device\n",
    "tok_ds.set_format(\"torch\")"
   ]
  },
  {
   "cell_type": "code",
   "execution_count": null,
   "id": "db834a45-676a-4d1e-9da7-bff9d98d6243",
   "metadata": {},
   "outputs": [],
   "source": [
    "# args = TrainingArguments(output_dir='./litho_outputs', learning_rate=lr, warmup_ratio=0.1, lr_scheduler_type='cosine', fp16=True,\n",
    "#     evaluation_strategy=\"epoch\", per_device_train_batch_size=bs, per_device_eval_batch_size=bs*2,\n",
    "#     num_train_epochs=epochs, weight_decay=0.01, report_to='none')"
   ]
  },
  {
   "cell_type": "code",
   "execution_count": null,
   "id": "802eac87-b5ce-41d2-8b4c-8bd4d0e4337d",
   "metadata": {},
   "outputs": [],
   "source": [
    "dds = tok_ds.train_test_split(0.25, seed=42)"
   ]
  },
  {
   "cell_type": "code",
   "execution_count": null,
   "id": "7c8b2de4-2ba6-47b0-a89b-44ddcc352300",
   "metadata": {},
   "outputs": [],
   "source": [
    "dds.keys()"
   ]
  },
  {
   "cell_type": "code",
   "execution_count": null,
   "id": "b1ed9503-ea52-46a2-a7d9-408f1eead194",
   "metadata": {},
   "outputs": [],
   "source": [
    "tok_ds.features['labels'] = labels"
   ]
  },
  {
   "cell_type": "code",
   "execution_count": null,
   "id": "c522fbd9-6c98-4c96-b95b-c393f6b4cb72",
   "metadata": {},
   "outputs": [],
   "source": [
    "tok_ds.features\n",
    "\n",
    "# TODO:\n",
    "#     This differs from chapter3 of HF course https://huggingface.co/course/chapter3/4?fw=pt    \n",
    "# {'attention_mask': Sequence(feature=Value(dtype='int8', id=None), length=-1, id=None),\n",
    "#  'input_ids': Sequence(feature=Value(dtype='int32', id=None), length=-1, id=None),\n",
    "#  'labels': ClassLabel(num_classes=2, names=['not_equivalent', 'equivalent'], id=None),\n",
    "#  'token_type_ids': Sequence(feature=Value(dtype='int8', id=None), length=-1, id=None)}"
   ]
  },
  {
   "cell_type": "code",
   "execution_count": null,
   "id": "7fa2f84c-d726-4a22-955f-ce5e1779f09a",
   "metadata": {},
   "outputs": [],
   "source": [
    "tok_ds['input_ids'][0]"
   ]
  },
  {
   "cell_type": "code",
   "execution_count": null,
   "id": "738d8a5a-87ed-4f0b-83e9-5d3fca3210cf",
   "metadata": {},
   "outputs": [],
   "source": [
    "# https://huggingface.co/docs/transformers/training"
   ]
  },
  {
   "cell_type": "code",
   "execution_count": null,
   "id": "cde4c295-07a5-4302-bec2-4f695f6d232f",
   "metadata": {},
   "outputs": [],
   "source": [
    "# from Jeremy's notebook:\n",
    "# def compute_metrics(eval_pred):\n",
    "#     logits, labels = eval_pred\n",
    "#     predictions = np.argmax(logits, axis=-1)\n",
    "#     return metric.compute(predictions=predictions, references=labels)"
   ]
  },
  {
   "cell_type": "code",
   "execution_count": null,
   "id": "c151d98e-af42-43c5-919b-5b85cf80361b",
   "metadata": {},
   "outputs": [],
   "source": [
    "# Defining the Trainer to compute Custom Loss Function, adapted from [Simple Training with the 🤗 Transformers Trainer, around 840 seconds](https://youtu.be/u--UVvH-LIQ?t=840)\n",
    "class WeightedLossTrainer(Trainer):\n",
    "    def compute_loss(self, model, inputs, return_outputs=False):\n",
    "        # Feed inputs to model and extract logits\n",
    "        outputs = model(**inputs)\n",
    "        logits = outputs.get(\"logits\")\n",
    "        # Extract Labels\n",
    "        labels = inputs.get(\"labels\")\n",
    "        # Define loss function with class weights\n",
    "        loss_func = torch.nn.CrossEntropyLoss(weight=class_weights)\n",
    "        # Compute loss\n",
    "        loss = loss_func(logits, labels)\n",
    "        return (loss, outputs) if return_outputs else loss"
   ]
  },
  {
   "cell_type": "code",
   "execution_count": null,
   "id": "18700e87-9769-4a15-a138-acbce78ad03d",
   "metadata": {},
   "outputs": [],
   "source": [
    "def compute_metrics(eval_pred):\n",
    "    labels = eval_pred.label_ids\n",
    "    predictions = eval_pred.predictions.argmax(-1)\n",
    "    f1 = f1_score(labels, predictions, average=\"weighted\")\n",
    "    return {\"f1\": f1}"
   ]
  },
  {
   "cell_type": "code",
   "execution_count": null,
   "id": "98f682b7-31cb-4d98-8519-3953f4bd7895",
   "metadata": {},
   "outputs": [],
   "source": [
    "output_dir = \"./hf_training\"\n",
    "batch_size = 64 # 128\n",
    "epochs = 5\n",
    "lr = 8e-5"
   ]
  },
  {
   "cell_type": "code",
   "execution_count": null,
   "id": "9df5a0c0-e0f0-4952-a1d8-97e2bdab8a56",
   "metadata": {
    "lines_to_next_cell": 2
   },
   "outputs": [],
   "source": [
    "training_args = TrainingArguments(\n",
    "    output_dir=output_dir,\n",
    "    num_train_epochs=epochs,\n",
    "    learning_rate=lr,\n",
    "    lr_scheduler_type=\"cosine\",\n",
    "    per_device_train_batch_size=batch_size,\n",
    "    per_device_eval_batch_size=batch_size * 2,\n",
    "    weight_decay=0.01,\n",
    "    evaluation_strategy=\"epoch\",\n",
    "    logging_steps=len(dds[\"train\"]),\n",
    "    fp16=True,\n",
    "    push_to_hub=False,\n",
    "    report_to=\"none\",\n",
    ")"
   ]
  },
  {
   "cell_type": "code",
   "execution_count": null,
   "id": "8ddeb9c9-96d8-4118-9c36-2a5eb86e3a88",
   "metadata": {},
   "outputs": [],
   "source": [
    "model = model.to(\"cuda:0\")"
   ]
  },
  {
   "cell_type": "markdown",
   "id": "12a4a086",
   "metadata": {},
   "source": [
    "The above nay not be strictly necessary, depending on your version of `transformers`. I bumped into the following issue, which was probably the transformers [4.11.3 bug](https://github.com/nlp-with-transformers/notebooks/issues/31#issuecomment-1075369210): `RuntimeError: Expected all tensors to be on the same device, but found at least two devices, cuda:0 and cpu! (when checking argument for argument index in method wrapper__index_select)`"
   ]
  },
  {
   "cell_type": "code",
   "execution_count": null,
   "id": "b8c24545",
   "metadata": {},
   "outputs": [],
   "source": [
    "trainer = Trainer(\n",
    "    model=model,\n",
    "    args=training_args,\n",
    "    train_dataset=dds[\"train\"],\n",
    "    eval_dataset=dds[\"test\"],\n",
    "    tokenizer=tokz,\n",
    "    compute_metrics=compute_metrics,\n",
    ")"
   ]
  },
  {
   "cell_type": "markdown",
   "id": "ae94b51b-7e23-4239-b2e7-ae7b9986e55f",
   "metadata": {},
   "source": [
    "## Training?\n",
    "\n",
    "You did read the introduction and its spoiler alert, right? "
   ]
  },
  {
   "cell_type": "code",
   "execution_count": null,
   "id": "ee2f965b-c456-4d60-a9a9-a553eb8a8080",
   "metadata": {},
   "outputs": [],
   "source": [
    "trainer.train()"
   ]
  },
  {
   "cell_type": "markdown",
   "id": "39110291-075e-4166-9e31-8430544a07de",
   "metadata": {
    "tags": []
   },
   "source": [
    "# Stocktake and conclusion\n",
    "\n",
    "So, as announced at the start of this post, we hit a pothole in our journey. \n",
    "\n",
    "```text\n",
    "RuntimeError: The size of tensor a (768) must match the size of tensor b (128) at non-singleton dimension 3\n",
    "```\n",
    "\n",
    "Where the number (768) comes from is a bit of a mystery. I gather from Googling that this may have to do with the embedding of the Deberta model we are trying to fine tune, but I may be off the mark.\n",
    "\n",
    "It is probably something at which an experience NLP practitioner will roll their eyes.\n",
    "\n",
    "That's OK, We'll get there."
   ]
  },
  {
   "cell_type": "code",
   "execution_count": null,
   "id": "5b1eec63-b793-4440-9918-1485c1e3a7d7",
   "metadata": {},
   "outputs": [],
   "source": []
  }
 ],
 "metadata": {
  "jupytext": {
   "formats": "ipynb,py:percent"
  },
  "kernelspec": {
   "display_name": "Hugging Face",
   "language": "python",
   "name": "hf"
  },
  "language_info": {
   "codemirror_mode": {
    "name": "ipython",
    "version": 3
   },
   "file_extension": ".py",
   "mimetype": "text/x-python",
   "name": "python",
   "nbconvert_exporter": "python",
   "pygments_lexer": "ipython3",
   "version": "3.9.13"
  },
  "vscode": {
   "interpreter": {
    "hash": "a35eddb98a7327eba2e298515362c4b3c452739b41fb0a1c2c85ed15fb6f7656"
   }
  }
 },
 "nbformat": 4,
 "nbformat_minor": 5
}
