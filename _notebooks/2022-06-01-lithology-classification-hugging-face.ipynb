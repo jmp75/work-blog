{
 "cells": [
  {
   "cell_type": "markdown",
   "id": "75eb2741-eac7-4dd9-9f9a-0ccd5695130e",
   "metadata": {},
   "source": [
    "# Lithology classification using Hugging Face, part 1\n",
    "\n",
    "- toc: true \n",
    "- badges: true\n",
    "- comments: true\n",
    "- categories: [hugging-face, NLP, lithology]\n",
    "- author: J-M\n"
   ]
  },
  {
   "cell_type": "markdown",
   "id": "5dd6a152-fc40-430f-bcc3-b4d88116a991",
   "metadata": {},
   "source": [
    "# About\n",
    "\n",
    "This is (perhaps) the start of a series of posts on using natural language processing for lithology classification. I hope to explore multi-label classification in subsequent posts.\n",
    "\n",
    "![Courtesy of https://earthresources.vic.gov.au](https://earthresources.vic.gov.au/__data/assets/image/0008/456704/drill_core_library_1.jpg)\n",
    "\n",
    "# Background\n",
    "\n",
    "I've been attending virtually the latest Deep Learning course run by [Jeremy Howard](https://jeremy.fast.ai) (See the [fast.ai forum](https://forums.fast.ai) for pointers to past courses). Part of the experience can be to find \"homeworks\". I traditionally work with point time series data, and it would have been a Pavlov reflex for me to get a use case with this type of data.\n",
    "\n",
    "However in one of the lessons Jeremy used [Hugging Face](https://huggingface.co/) [Transformers](https://huggingface.co/docs/transformers/index) applied to the Kaggle competition [U.S. Patent Phrase to Phrase Matching](https://www.kaggle.com/competitions/us-patent-phrase-to-phrase-matching). At some point he made a comment about how much NLP progressed over the recent years, and how much potential value creation there was in this.\n",
    "\n",
    "I do not follow closely NLP research, and am not knowledgeable enough to agree or not, but got an inkling of the potential value a few years back when working on a [python package for exploratory lithology analysis](https://github.com/csiro-hydrogeology/pyela), for groundwater characterisation. Lithology is \"the study of the general physical characteristics of rocks\". Drilling core soil samples is not cheap; existing records are valuable.\n",
    "\n",
    "Sections of a core sample drill can be described with sentences such as:\n",
    "\n",
    "* topsoil\n",
    "* shale, slippery back, green seams\n",
    "* sandstone alluvium water bearing\n",
    "* gravel red very clayey water supply\n",
    "* sandstone, red/pale brown, fine-coarse, white clay bands, brownish yellow bands, pebbles (16.9-16.98m)\n",
    "* fill; orange-brown, dry, loose, pebbles to 2.5cm, heterogeneous\n",
    "* clay; light brown, strongly cohesive, contains silicate & carbonate clasts to coarse sand size, no clay smell.\n",
    "\n",
    "You would have an inkling that the prose of the writer (the \"driller\") can vary in style and detail. One typical use case is to determine the primary and (optionally) secondary lithologies of a record, as it strongly influences how fast water can flow underground. \"gravel red very clayey\" is on the easier side of the spectrum of difficulty: \"gravel\" as a primary lithology and \"clay\" as a secondary lithology (assuming these are valid classes for the context). It can get much trickier to classify of course, and certainly expensive if done very manually. Automating this classification process opens the possibility of an iterative process towards a sound lithology classification fit for purpose.\n",
    "\n",
    "I co-authored a conference presentation \"Comparing regular expression and deep learning methods for the classification of descriptive lithology\" (Page 161 of the [MODSIM 2019 book of abstracts](https://mssanz.org.au/modsim2019/abstracts.html) if you are curious). With all the caveats of a study made on very limited resources, I was surprised by how well NLP performed overall to train and test on a human-labeled dataset.\n",
    "\n",
    "I am not working on this domain during paid hours these days, but feel like revisiting this for a bit over the course.\n",
    "\n",
    "# Getting acquainted with data\n",
    "\n",
    "Arbitrarily, I downloaded data for the [Namoi catchment](https://www.awe.gov.au/water/cewo/catchment/namoi) from the [Australian Groundwater Explorer](http://www.bom.gov.au/water/groundwater/explorer/map.shtml). While I am not totally new to the domain, I genuinely do need to explore this data from scratch. This will probably be at least the rest of this post.  "
   ]
  },
  {
   "cell_type": "code",
   "execution_count": 1,
   "id": "bab780c4-075b-4bd8-8882-677a5fe59c30",
   "metadata": {},
   "outputs": [],
   "source": [
    "import pandas as pd\n",
    "from pathlib import Path"
   ]
  },
  {
   "cell_type": "code",
   "execution_count": 2,
   "id": "1eed6012-60a9-4a90-913f-dc8828b404a5",
   "metadata": {},
   "outputs": [],
   "source": [
    "fn =  Path('~').expanduser() / \"data/ela/shp_namoi_river/NGIS_LithologyLog.csv\""
   ]
  },
  {
   "cell_type": "markdown",
   "id": "2d5cd6d4-ff9e-4cda-bb28-867cb0373de5",
   "metadata": {},
   "source": [
    "The types of a few columns lead to warnings: let's force them to 'str' here. I do not anticipate using the depth records for now. "
   ]
  },
  {
   "cell_type": "code",
   "execution_count": 3,
   "id": "2597616c-9184-4eb6-9298-a05621e18818",
   "metadata": {},
   "outputs": [],
   "source": [
    "litho_logs = pd.read_csv(fn, dtype={'FromDepth': str, 'ToDepth': str, 'MajorLithCode': str, 'MinorLithCode': str})"
   ]
  },
  {
   "cell_type": "markdown",
   "id": "4b876f14-7097-4ed3-b0a5-6027a2ac2cc0",
   "metadata": {},
   "source": [
    "So how does this data look like?"
   ]
  },
  {
   "cell_type": "code",
   "execution_count": 4,
   "id": "2f30d625-efe5-4b20-8fd7-4fd301de5348",
   "metadata": {},
   "outputs": [
    {
     "data": {
      "text/html": [
       "<div>\n",
       "<style scoped>\n",
       "    .dataframe tbody tr th:only-of-type {\n",
       "        vertical-align: middle;\n",
       "    }\n",
       "\n",
       "    .dataframe tbody tr th {\n",
       "        vertical-align: top;\n",
       "    }\n",
       "\n",
       "    .dataframe thead th {\n",
       "        text-align: right;\n",
       "    }\n",
       "</style>\n",
       "<table border=\"1\" class=\"dataframe\">\n",
       "  <thead>\n",
       "    <tr style=\"text-align: right;\">\n",
       "      <th></th>\n",
       "      <th>OBJECTID</th>\n",
       "      <th>BoreID</th>\n",
       "      <th>HydroCode</th>\n",
       "      <th>RefElev</th>\n",
       "      <th>RefElevDesc</th>\n",
       "      <th>FromDepth</th>\n",
       "      <th>ToDepth</th>\n",
       "      <th>TopElev</th>\n",
       "      <th>BottomElev</th>\n",
       "      <th>MajorLithCode</th>\n",
       "      <th>MinorLithCode</th>\n",
       "      <th>Description</th>\n",
       "      <th>Source</th>\n",
       "      <th>LogType</th>\n",
       "      <th>OgcFidTemp</th>\n",
       "    </tr>\n",
       "  </thead>\n",
       "  <tbody>\n",
       "    <tr>\n",
       "      <th>0</th>\n",
       "      <td>14</td>\n",
       "      <td>10045588</td>\n",
       "      <td>GW003048.1.1</td>\n",
       "      <td>None</td>\n",
       "      <td>UNK</td>\n",
       "      <td>0.0</td>\n",
       "      <td>1.22</td>\n",
       "      <td>None</td>\n",
       "      <td>None</td>\n",
       "      <td>SOIL</td>\n",
       "      <td>NaN</td>\n",
       "      <td>SOIL SANDY CLAY</td>\n",
       "      <td>UNK</td>\n",
       "      <td>1</td>\n",
       "      <td>8666163</td>\n",
       "    </tr>\n",
       "    <tr>\n",
       "      <th>1</th>\n",
       "      <td>15</td>\n",
       "      <td>10045588</td>\n",
       "      <td>GW003048.1.1</td>\n",
       "      <td>None</td>\n",
       "      <td>UNK</td>\n",
       "      <td>19.51</td>\n",
       "      <td>28.65</td>\n",
       "      <td>None</td>\n",
       "      <td>None</td>\n",
       "      <td>BSLT</td>\n",
       "      <td>NaN</td>\n",
       "      <td>BASALT WATER BEARING</td>\n",
       "      <td>UNK</td>\n",
       "      <td>1</td>\n",
       "      <td>8666164</td>\n",
       "    </tr>\n",
       "    <tr>\n",
       "      <th>2</th>\n",
       "      <td>28</td>\n",
       "      <td>10060509</td>\n",
       "      <td>GW006968.1.1</td>\n",
       "      <td>None</td>\n",
       "      <td>UNK</td>\n",
       "      <td>0.0</td>\n",
       "      <td>3.66</td>\n",
       "      <td>None</td>\n",
       "      <td>None</td>\n",
       "      <td>TPSL</td>\n",
       "      <td>NaN</td>\n",
       "      <td>TOPSOIL</td>\n",
       "      <td>UNK</td>\n",
       "      <td>1</td>\n",
       "      <td>8666177</td>\n",
       "    </tr>\n",
       "    <tr>\n",
       "      <th>3</th>\n",
       "      <td>29</td>\n",
       "      <td>10060509</td>\n",
       "      <td>GW006968.1.1</td>\n",
       "      <td>None</td>\n",
       "      <td>UNK</td>\n",
       "      <td>33.53</td>\n",
       "      <td>34.75</td>\n",
       "      <td>None</td>\n",
       "      <td>None</td>\n",
       "      <td>GRVL</td>\n",
       "      <td>NaN</td>\n",
       "      <td>GRAVEL WATER BEARING</td>\n",
       "      <td>UNK</td>\n",
       "      <td>1</td>\n",
       "      <td>8666178</td>\n",
       "    </tr>\n",
       "    <tr>\n",
       "      <th>4</th>\n",
       "      <td>30</td>\n",
       "      <td>10060509</td>\n",
       "      <td>GW006968.1.1</td>\n",
       "      <td>None</td>\n",
       "      <td>UNK</td>\n",
       "      <td>48.77</td>\n",
       "      <td>51.82</td>\n",
       "      <td>None</td>\n",
       "      <td>None</td>\n",
       "      <td>SHLE</td>\n",
       "      <td>NaN</td>\n",
       "      <td>SLIPPERY BACK</td>\n",
       "      <td>UNK</td>\n",
       "      <td>1</td>\n",
       "      <td>8666179</td>\n",
       "    </tr>\n",
       "  </tbody>\n",
       "</table>\n",
       "</div>"
      ],
      "text/plain": [
       "   OBJECTID    BoreID     HydroCode RefElev RefElevDesc FromDepth ToDepth  \\\n",
       "0        14  10045588  GW003048.1.1    None         UNK       0.0    1.22   \n",
       "1        15  10045588  GW003048.1.1    None         UNK     19.51   28.65   \n",
       "2        28  10060509  GW006968.1.1    None         UNK       0.0    3.66   \n",
       "3        29  10060509  GW006968.1.1    None         UNK     33.53   34.75   \n",
       "4        30  10060509  GW006968.1.1    None         UNK     48.77   51.82   \n",
       "\n",
       "  TopElev BottomElev MajorLithCode MinorLithCode           Description Source  \\\n",
       "0    None       None          SOIL           NaN       SOIL SANDY CLAY    UNK   \n",
       "1    None       None          BSLT           NaN  BASALT WATER BEARING    UNK   \n",
       "2    None       None          TPSL           NaN               TOPSOIL    UNK   \n",
       "3    None       None          GRVL           NaN  GRAVEL WATER BEARING    UNK   \n",
       "4    None       None          SHLE           NaN         SLIPPERY BACK    UNK   \n",
       "\n",
       "   LogType  OgcFidTemp  \n",
       "0        1     8666163  \n",
       "1        1     8666164  \n",
       "2        1     8666177  \n",
       "3        1     8666178  \n",
       "4        1     8666179  "
      ]
     },
     "execution_count": 4,
     "metadata": {},
     "output_type": "execute_result"
    }
   ],
   "source": [
    "litho_logs.head()"
   ]
  },
  {
   "cell_type": "markdown",
   "id": "20082401-eb62-4835-8eb5-048a2063eb3c",
   "metadata": {},
   "source": [
    "A MajorLithoCode column appears to be populated, so this may be suitable for training a classifier. I have no idea (or forgot) how these lithology codes have been derived and what the corpus of labels is. "
   ]
  },
  {
   "cell_type": "code",
   "execution_count": 5,
   "id": "68d8267b-fe72-471d-a43b-f74624c7122d",
   "metadata": {},
   "outputs": [
    {
     "data": {
      "text/plain": [
       "144518"
      ]
     },
     "execution_count": 5,
     "metadata": {},
     "output_type": "execute_result"
    }
   ],
   "source": [
    "len(litho_logs)"
   ]
  },
  {
   "cell_type": "markdown",
   "id": "6f13b9d8-77ff-4e4d-8484-3db450e355cb",
   "metadata": {},
   "source": [
    "For the sake of conciseness I will point-blank reuse the text processing utilities in the ela package, without any explanation of the setup (ela comes with many dependencies from NLP to 3d vis that can be tricky to install)."
   ]
  },
  {
   "cell_type": "code",
   "execution_count": 6,
   "id": "7794e5be-e964-42ad-a51b-88afd3aa3c3d",
   "metadata": {},
   "outputs": [],
   "source": [
    "from ela.textproc import token_freq, plot_freq"
   ]
  },
  {
   "cell_type": "code",
   "execution_count": 7,
   "id": "b61935fc-3ac0-4c26-98ed-00f9b1dd32e3",
   "metadata": {},
   "outputs": [],
   "source": [
    "MAJOR_CODE='MajorLithCode'\n",
    "MINOR_CODE='MinorLithCode'\n",
    "DESC='Description'"
   ]
  },
  {
   "cell_type": "markdown",
   "id": "2bf513b7-b6b6-43cd-b3da-a986fb94fac5",
   "metadata": {},
   "source": [
    "## Major (primary) lithology codes"
   ]
  },
  {
   "cell_type": "code",
   "execution_count": 8,
   "id": "924658cb-908a-4c04-a089-abdfc613dad3",
   "metadata": {},
   "outputs": [],
   "source": [
    "litho_classes=litho_logs[MAJOR_CODE].values\n",
    "df_most_common= token_freq(litho_classes, 50)"
   ]
  },
  {
   "cell_type": "code",
   "execution_count": 9,
   "id": "1e8b4287-eed1-4155-bd43-53f007330bd5",
   "metadata": {},
   "outputs": [
    {
     "data": {
      "text/plain": [
       "<AxesSubplot:xlabel='token'>"
      ]
     },
     "execution_count": 9,
     "metadata": {},
     "output_type": "execute_result"
    },
    {
     "data": {
      "image/png": "[encoded data removed]",
      "text/plain": [
       "<Figure size 1080x720 with 1 Axes>"
      ]
     },
     "metadata": {
      "needs_background": "light"
     },
     "output_type": "display_data"
    }
   ],
   "source": [
    "plot_freq(df_most_common)"
   ]
  },
  {
   "cell_type": "markdown",
   "id": "04f1cb62-dbb2-4a4c-8d1a-67a61b7aee00",
   "metadata": {},
   "source": [
    "This is a long-tailed distribution; quite a few labels. The limit to 4 characters labels suggest a form of controlled vocabulary. The numbers 20, 19, 23, 8, 1 look odd. \"None\" is an artefact though not misleading, quite a few records are such that no major lithology could be attributed. "
   ]
  },
  {
   "cell_type": "markdown",
   "id": "e2f1111b-199d-42f6-90da-159cf7b2ff21",
   "metadata": {},
   "source": [
    "## Minor (secondary) lithology codes"
   ]
  },
  {
   "cell_type": "code",
   "execution_count": 10,
   "id": "ed9845e0-dd92-435c-b3df-9117254ca549",
   "metadata": {},
   "outputs": [],
   "source": [
    "litho_classes=litho_logs[MINOR_CODE].values\n",
    "df_most_common= token_freq(litho_classes, 50)"
   ]
  },
  {
   "cell_type": "code",
   "execution_count": 11,
   "id": "271591ce-63cb-405f-95f8-27dac9cf0771",
   "metadata": {},
   "outputs": [
    {
     "data": {
      "text/plain": [
       "<AxesSubplot:xlabel='token'>"
      ]
     },
     "execution_count": 11,
     "metadata": {},
     "output_type": "execute_result"
    },
    {
     "data": {
      "image/png": "[encoded data removed]",
      "text/plain": [
       "<Figure size 1080x720 with 1 Axes>"
      ]
     },
     "metadata": {
      "needs_background": "light"
     },
     "output_type": "display_data"
    }
   ],
   "source": [
    "plot_freq(df_most_common)"
   ]
  },
  {
   "cell_type": "markdown",
   "id": "a978caaf-a03c-41db-b486-37e3d89e5139",
   "metadata": {},
   "source": [
    "Well, no minor lithology codes, so this data set may not be a good start for multi-label classification. Still, I'll persist with this data set, and reassess later on"
   ]
  },
  {
   "cell_type": "markdown",
   "id": "cd77d297-3bd4-4ae0-9548-e15349c54ff8",
   "metadata": {},
   "source": [
    "## Back to major lithology codes"
   ]
  },
  {
   "cell_type": "markdown",
   "id": "e931ac46-550e-47a5-a890-73e77cc2e203",
   "metadata": {},
   "source": [
    "What are the flavour of descriptions leading to the most frequent classes (CLAY, GRVL, etc.), as well as \"None\" "
   ]
  },
  {
   "cell_type": "code",
   "execution_count": 12,
   "id": "17b32a3b-a3a3-4453-a86d-bb929b37d53a",
   "metadata": {},
   "outputs": [],
   "source": [
    "is_clay = litho_logs[MAJOR_CODE] == 'CLAY'"
   ]
  },
  {
   "cell_type": "code",
   "execution_count": 13,
   "id": "62c90747-950f-4555-b564-5f5ec954d596",
   "metadata": {},
   "outputs": [],
   "source": [
    "clay_coded = litho_logs.loc[is_clay][DESC]"
   ]
  },
  {
   "cell_type": "code",
   "execution_count": 14,
   "id": "b7e49c79-7d07-4f23-865a-b1a5f721f716",
   "metadata": {},
   "outputs": [
    {
     "data": {
      "text/plain": [
       "144320                                                 CLAY\n",
       "117387                                                 CLAY\n",
       "18630                                                  CLAY\n",
       "35565                                       CLAY SOME SANDY\n",
       "61997                                                  CLAY\n",
       "13533                                  CLAY SANDSTONE BANDS\n",
       "117529                                          YELLOW CLAY\n",
       "82290                                                  CLAY\n",
       "73280                                       CLAY GREY SANDY\n",
       "106748                                          CLAY STONEY\n",
       "26265                                           CLAY YELLOW\n",
       "16456                                                  CLAY\n",
       "25032                                                  CLAY\n",
       "9911                                                   CLAY\n",
       "135852    CLAY, SANDY GRAVELLY, ORANGE BROWN, MEDIUM PLA...\n",
       "30596                                                  CLAY\n",
       "140698    CLAY, SANDY FAT; RED, DRY-MOIST, MEDIUM CONSIS...\n",
       "70267                                                  CLAY\n",
       "6534                                            CLAY YELLOW\n",
       "69927                                           CLAY GRAVEL\n",
       "76476                                            SANDY CLAY\n",
       "7329                                            CLAY GRITTY\n",
       "51685        CLAY; 40% BROWN, GRAVEL & SAND 60%, MOST 1-3MM\n",
       "137385                                                 CLAY\n",
       "35816                                                  CLAY\n",
       "73972                                                  CLAY\n",
       "102333                                     CLAY SOME STONES\n",
       "29218                                                  CLAY\n",
       "92266                                              RED CLAY\n",
       "26151                                            CLAY SANDY\n",
       "107456                                            CLAY GREY\n",
       "52550     CLAY - LIGHT GREY, EXTREMELY SANDY (FINE TO CO...\n",
       "24225                                                  CLAY\n",
       "120696                     CLAY; LIGHT GREY, TRACE OF WHITE\n",
       "9030                                                   CLAY\n",
       "14889                                                  CLAY\n",
       "25834                           CLAY LIGHT BROWN GREY SILTY\n",
       "44078                                                  CLAY\n",
       "114869                                                 CLAY\n",
       "109302                                                 CLAY\n",
       "38107                                           CLAY PATCHY\n",
       "30801                                                  CLAY\n",
       "82362                                     CLAY/BROWN ORANGE\n",
       "141490                         CLAY; BROWN, PINK, SOME BLUE\n",
       "23075                                     CLAY SANDY GRAVEL\n",
       "42110                                                  CLAY\n",
       "50493                                 CLAY, WHITE SEAM, RED\n",
       "90209                                     CLAY - DARK BROWN\n",
       "104019                                                 CLAY\n",
       "12690                                                  CLAY\n",
       "Name: Description, dtype: object"
      ]
     },
     "execution_count": 14,
     "metadata": {},
     "output_type": "execute_result"
    }
   ],
   "source": [
    "import numpy as np\n",
    "np.random.seed(123)\n",
    "clay_coded.sample(n=50)"
   ]
  },
  {
   "cell_type": "markdown",
   "id": "bdacd8cd-ad57-405b-b19e-8edf51eb770d",
   "metadata": {},
   "source": [
    "Nothing too surprising in this, very intuitive, though the tail suggests there may be a few outliers:"
   ]
  },
  {
   "cell_type": "code",
   "execution_count": 15,
   "id": "0fd2e90b-6db5-418b-8585-754fb97f1a09",
   "metadata": {},
   "outputs": [
    {
     "data": {
      "text/plain": [
       "144386            CLAY; LIGHT BROWN, SOME LIGHT GREY, SILTY\n",
       "144388                                          CLAY; BROWN\n",
       "144391                                    CLAY; LIGHT BROWN\n",
       "144393                                         CLAY - BROWN\n",
       "144394         CLAY - LIGHT BROWN, EXTREMELY SANDY (COARSE)\n",
       "144398    CONGLOMERATE - WEATHERED BUT STILL HOLDS TOGET...\n",
       "144401                                          CLAY; BROWN\n",
       "144402                                          CLAY - GREY\n",
       "144488                                                 CLAY\n",
       "144503                                                 None\n",
       "Name: Description, dtype: object"
      ]
     },
     "execution_count": 15,
     "metadata": {},
     "output_type": "execute_result"
    }
   ],
   "source": [
    "clay_coded.tail(10)"
   ]
  },
  {
   "cell_type": "markdown",
   "id": "b66ee8d1-4e16-44fc-b837-ee88d5a204e9",
   "metadata": {},
   "source": [
    "Looking at the \"sand\" code:"
   ]
  },
  {
   "cell_type": "code",
   "execution_count": 16,
   "id": "43c2f4b9-c77b-4d91-8f44-ad2abc2e517e",
   "metadata": {},
   "outputs": [],
   "source": [
    "def sample_desc_for_code(major_code, n=50, seed=None):\n",
    "    is_code = litho_logs[MAJOR_CODE] == major_code\n",
    "    coded = litho_logs.loc[is_code][DESC]\n",
    "    if seed is not None:\n",
    "        np.random.seed(seed)\n",
    "    return coded.sample(n=50)"
   ]
  },
  {
   "cell_type": "code",
   "execution_count": 17,
   "id": "2341f6d3-3216-4223-9428-41aad2ff098e",
   "metadata": {},
   "outputs": [
    {
     "data": {
      "text/plain": [
       "72256                         SAND GRAVEL FINE WATER SUPPLY\n",
       "109345                                   SAND CLAYEY GRAVEL\n",
       "66816                                     SAND WATER SUPPLY\n",
       "85097     SAND - 70% UP TO 2MM, GRAVEL 10% 2-5MM, CLAY 2...\n",
       "137476    SAND; LIGHT BROWN, MEDIUM TO COARSE, FINE GRAV...\n",
       "29946                                     SAND GRAVEL DIRTY\n",
       "37012                                COARSE SAND AND GRAVEL\n",
       "135985                                                 SAND\n",
       "74402              SAND WHITE GREY WELL SORTED WATER SUPPLY\n",
       "42422                                           SAND GRAVEL\n",
       "41225                                    SAND CLAYEY GRAVEL\n",
       "50700                                                  SAND\n",
       "33813                      BROWN SAND (VERY FINE TO MEDIUM)\n",
       "38452                       SAND GRAVEL MEDIUM WATER SUPPLY\n",
       "107707                                     SAND FINE-COARSE\n",
       "51759     SAND; 60%, SILTY, FINE 10%, MEDIUM 20% & COARS...\n",
       "102234                             SAND GRAVEL WATER SUPPLY\n",
       "74640                              SAND GRAVEL WATER SUPPLY\n",
       "13123                              SAND GRAVEL WATER SUPPLY\n",
       "23110                                                  SAND\n",
       "11373                              SAND GRAVEL WATER SUPPLY\n",
       "35508                        SAND SILTY GRAVEL WATER SUPPLY\n",
       "32744                                           SAND CLAYEY\n",
       "67310                                             SAND CLAY\n",
       "41813                              SAND GRAVEL WATER SUPPLY\n",
       "106457                             SAND GRAVEL WATER SUPPLY\n",
       "85591                    SAND AND GRAVEL - CLAYEY AND SILTY\n",
       "112156                         SAND, WHITE (VERY VERY FINE)\n",
       "111256                   SAND/GRAVEL; FINE TO COARSE, BROWN\n",
       "55808     SAND; POORLY GRADED, COARSE, SUBROUNDED, LIGHT...\n",
       "91458     SAND, MEDIUM-COARSE; SLIGHTLY SILTY, WET, LOOS...\n",
       "61608                              SAND, GRAVEL & LIMESTONE\n",
       "96382                                           SAND CLAYEY\n",
       "37119          MEDIUM BROWN SAND & GRAVEL SOME LARGE GRAVEL\n",
       "118473    SAND; 40% 1/20-1/2MM, 40% 1/2-1MM, 20% 1-3MM, ...\n",
       "70703                              SAND GRAVEL WATER SUPPLY\n",
       "92920                                            BROWN SAND\n",
       "80551     SAND, SILTY; AS ABOVE, TRACE CLAY, ORANGE, LOW...\n",
       "25175     COARSE SAND & FINE GRAVEL WITH ANGULAR FRAGMEN...\n",
       "38905                               SAND FINE WATER BEARING\n",
       "44248                              SAND GRAVEL WATER SUPPLY\n",
       "32261                                            SAND DRIFT\n",
       "34510                             SAND CLAYEY COARSE GRAVEL\n",
       "77431                   SAND AND GRAVEL FINE TO COARSE GREY\n",
       "138362                                           SAND BROWN\n",
       "103758                   SAND GRAVEL STONES SOME CLAY BANDS\n",
       "69238                                           SAND GRAVEL\n",
       "143566    SAND & GRAVEL; SAND 50% (FINE 30%, MEDIUM 20%,...\n",
       "135131                                                 SAND\n",
       "30361                               SAND CLAYEY WELL SORTED\n",
       "Name: Description, dtype: object"
      ]
     },
     "execution_count": 17,
     "metadata": {},
     "output_type": "execute_result"
    }
   ],
   "source": [
    "sample_desc_for_code('SAND', seed=123)"
   ]
  },
  {
   "cell_type": "markdown",
   "id": "4bdda2b2-1bb8-4eb2-aec8-5403ba59aebf",
   "metadata": {},
   "source": [
    "Rather straighforward, consistent and and intuitive"
   ]
  },
  {
   "cell_type": "markdown",
   "id": "a6e0e0b5-dcfb-496b-8e4c-dd9dd36e4628",
   "metadata": {},
   "source": [
    "### Major lithology code \"None\"\n",
    "\n",
    "This one is likely to be more curly and surprising. Let's see\n"
   ]
  },
  {
   "cell_type": "code",
   "execution_count": 18,
   "id": "78141fec-5156-40d6-8884-eca1073a0be0",
   "metadata": {},
   "outputs": [
    {
     "data": {
      "text/plain": [
       "131075                            W.B. BROWN SHALE\n",
       "127170                      COARSE SAND AND GRAVEL\n",
       "126145                                   BLUE CLAY\n",
       "126889                         GREY AND BROWN CLAY\n",
       "132179                             GREY BROWN CLAY\n",
       "130033                            BROWN SANDY CLAY\n",
       "123436                                      GRAVEL\n",
       "128794                                        CLAY\n",
       "128242                        SAND AND FINE GRAVEL\n",
       "134156                                        None\n",
       "129636                                 W.B. BASALT\n",
       "122884                     LIGHT ORANGE SILTY CLAY\n",
       "124580                                      SHALES\n",
       "128684                                  W.B. SHALE\n",
       "131120                             SAND AND GRAVEL\n",
       "122690                              RED RIDGE CLAY\n",
       "132319                                  BLACK SOIL\n",
       "128528                                  BLACK CLAY\n",
       "123646                                    MUDSTONE\n",
       "129757                                 SAND & CLAY\n",
       "124353                             SOFT BROWN CLAY\n",
       "131921                                        CLAY\n",
       "133208                                 BROWN CLAYS\n",
       "132945                                 COARSE SAND\n",
       "122956                             SAND AND GRAVEL\n",
       "123723                             CALY AND GRAVEL\n",
       "122102                                    TOP SOIL\n",
       "126455    HARD SANDY BROWN & GREY CLAY WITH STONES\n",
       "125637                    SANDY BLUE AND GREY CLAY\n",
       "131154                            BROWN SANDY CLAY\n",
       "129931                                  RIDGE CLAY\n",
       "123557                                  RIDGE CLAY\n",
       "124964                             DARK BROWN CLAY\n",
       "129391                                  GREY SHALE\n",
       "132891                               WATER 0.37 LS\n",
       "132006                                  BROWN CLAY\n",
       "134673                                         SEP\n",
       "123692                                  BROWN CLAY\n",
       "126034                          REDDISH BROWN CLAY\n",
       "129690             SOFT GINGER/BROWN CLAY & STONES\n",
       "125560                            FINE SANDY CLAYS\n",
       "126238                             SHALE & (WATER)\n",
       "123009                                        SOIL\n",
       "124236                                        SOIL\n",
       "125814                                  BLUE SHALE\n",
       "130474                             RED & GREY CLAY\n",
       "127005                                  BROWN CLAY\n",
       "134212                                   BROWN AND\n",
       "125640                                        SOIL\n",
       "127355                                       SHALE\n",
       "Name: Description, dtype: object"
      ]
     },
     "execution_count": 18,
     "metadata": {},
     "output_type": "execute_result"
    }
   ],
   "source": [
    "sample_desc_for_code('None', seed=123)"
   ]
  },
  {
   "cell_type": "markdown",
   "id": "78679b80-5a4c-4be3-b676-0f584b90c531",
   "metadata": {},
   "source": [
    "Well, it does not require a fully trained geologist to think there should be obvious primary lithology codes for many of these, so why is there \"None\" for these descriptions?\n",
    "\n",
    "Not shown in the 50-odd sample above are descriptions which should indeed be unclassified (e.g. \"no strata description\")\n",
    "\n",
    "This is also an occasion to note the less obvious information and complications in descriptive logs, compared to earlier categories:\n",
    "  \n",
    "* CALY as a typo for CLAY\n",
    "* Slang terms and acronyms, e.g. \"W.B.\" perhaps for \"Weathered, broken\"  \n",
    "* Quantitative and qualitative attributes such as SAND; 60%, SILTY, FINE 10%, MEDIUM 20% & COARSE, which may be valuable for some types of classification \n"
   ]
  },
  {
   "cell_type": "code",
   "execution_count": 19,
   "id": "9f4a5021-e12f-46c9-a38b-6da34011593f",
   "metadata": {},
   "outputs": [
    {
     "data": {
      "text/plain": [
       "9423                                         SANDSTONE SOFT\n",
       "117911            SANDSTONE, SILTY; AS ABOVE, QUARTZ (+60%)\n",
       "6613                                         SAND ROCK GREY\n",
       "20345                                   SANDSTONE GREY HARD\n",
       "106885                                            SANDSTONE\n",
       "139088           SANDSTONE; DARK GREY, COARSE GRAINED, HARD\n",
       "5101                                       SANDSTONE ROTTEN\n",
       "26561                                      SANDSTONE YELLOW\n",
       "137304                                    SANDSTONE; COARSE\n",
       "56627     SANDSTONE; GREY, FINE-MEDIUM GRAINED, MOD WEAK...\n",
       "98974                          SANDSTONE WHITE WATER SUPPLY\n",
       "87187                                             SANDSTONE\n",
       "45141                 SANDSTONE, VERY PALE BROWN, HIGH CLAY\n",
       "70015                                      SANDSTONE YELLOW\n",
       "29492                                SANDSTONE WATER SUPPLY\n",
       "92918                                             SANDSTONE\n",
       "83555              SANDSTONE; LIGHT GREY, VERY FINE, STRONG\n",
       "136401                                            SANDSTONE\n",
       "48201                                             SANDSTONE\n",
       "34060     SANDSTONE, YELLOW, MEDIUM GRAINED, HIGH CLAY M...\n",
       "63752     SANDSTONE; WHITISH GREY, VERY FINE, ANGULAR, C...\n",
       "51878                     SANDSTONE, MEDIUM, WHITISH YELLOW\n",
       "59346                                       SANDSTONE, SOFT\n",
       "62968          SANDSTONE; OFF-WHITE GREY, VERY FINE, STRONG\n",
       "140930                SANDSTONE, LIGHT GREY, SOME FRACTURES\n",
       "6394                                              SAND ROCK\n",
       "113546                        SANDSTONE - HARD - LIGHT GREY\n",
       "49539     SANDSTONE; RED GREY, FINE-MEDIUM GRAINED, FRIA...\n",
       "60198                   SANDSTONE; LIGHT GREY, FINE GRAINED\n",
       "1366                                              SANDSTONE\n",
       "35923               SANDSTONE WEATHERED COARSE WATER SUPPLY\n",
       "141556    SANDSTONE, WHITE, IMPREGNATED WITH WATER WASHE...\n",
       "10100                                SANDSTONE WATER SUPPLY\n",
       "89138     SANDSTONE; OFF-WHITE GREY, MEDIUM-COARSE GRAIN...\n",
       "86046                      QUARTZ SANDSTONE; MEDIUM GRAINED\n",
       "76366     SANDSTONE, PALE BROWN, FINE-COARSE, LOW CLAY, ...\n",
       "46179     SANDSTONE, LIGHTYELLOW/RED BROWN MOTTLED, FINE...\n",
       "8613                                              SANDSTONE\n",
       "4537                                       SANDSTONE YELLOW\n",
       "60506                                             SANDSTONE\n",
       "8917                                              SANDSTONE\n",
       "1372                                 SANDSTONE WATER SUPPLY\n",
       "82975     SANDSTONE; LIGHT GREY, FINE GRAINED, MOD STRON...\n",
       "60166                                  SANDSTONE, VERY SOFT\n",
       "31674                                       SANDSTONE SHALE\n",
       "8397                                              SANDSTONE\n",
       "113310       SANDSTONE; OFF-WHITE, FINE GRAINED, MOD STRONG\n",
       "27980                                             SANDSTONE\n",
       "79933                                SANDSTONE WHITE BROKEN\n",
       "33654                               SANDSTONE YELLOW CLAYEY\n",
       "Name: Description, dtype: object"
      ]
     },
     "execution_count": 19,
     "metadata": {},
     "output_type": "execute_result"
    }
   ],
   "source": [
    "sample_desc_for_code('SDSN', seed=123)"
   ]
  },
  {
   "cell_type": "markdown",
   "id": "d0681b77-55d7-4412-bb3e-b367ae54d468",
   "metadata": {},
   "source": [
    "Now, what's with the weird numbers as lithology codes?"
   ]
  },
  {
   "cell_type": "code",
   "execution_count": 20,
   "id": "ca7b4d1a-f513-4f38-b12f-84aaf9d445a6",
   "metadata": {},
   "outputs": [
    {
     "data": {
      "text/plain": [
       "130369                           SANDY CLAY; BROWN (COARSE)\n",
       "122444                                           CLAY SANDY\n",
       "127761                                           CLAY SANDY\n",
       "125771                                           SANDY CLAY\n",
       "127783                                           CLAY SANDY\n",
       "133014                SANDY CLAY AND CLAYEY SAND AND GRAVEL\n",
       "124007                              BROWN & GREY SANDY CLAY\n",
       "123445     CLAY LT BROWN GREY SANDY, MED-COARSE BROWN BANDS\n",
       "122180                                           CLAY SANDY\n",
       "127440                                           SANDY CLAY\n",
       "131498                                           SANDY CLAY\n",
       "127935                                       CLAY RED SANDY\n",
       "129304                                           SANDY CLAY\n",
       "130614                                          SANDY SHALE\n",
       "125543                                           SANDY CLAY\n",
       "125149                                           SANDY CLAY\n",
       "124971                                SANDY CLAY/GREY BROWN\n",
       "123939                                    SANDY CLAY, BROWN\n",
       "122392                                           CLAY SANDY\n",
       "123999                              BROWN & GREY SANDY CLAY\n",
       "129203                                           SANDY LOAM\n",
       "127933                                       CLAY RED SANDY\n",
       "134474                              SANDY CLAYEY MED. BROWN\n",
       "126071                                           SANDY CLAY\n",
       "127927                                           CLAY SANDY\n",
       "123587                                           CLAY SANDY\n",
       "126559                                           SANDY CLAY\n",
       "127928                                      CLAY GREY SANDY\n",
       "124643                                     SANDY CALY/BROWN\n",
       "122555                                           CLAY SANDY\n",
       "132628                                           SANDY CLAY\n",
       "129853                                           SANDY CLAY\n",
       "130187                                           SANDY CLAY\n",
       "129057                                           SANDY CLAY\n",
       "133300                                           SANDY CLAY\n",
       "122535                                           CLAY SANDY\n",
       "122732                                           CLAY SANDY\n",
       "127977                                    CLAY YELLOW SANDY\n",
       "126568                                           SANDY CLAY\n",
       "122339                                           CLAY SANDY\n",
       "128386                                    SANDY CLAY, BROWN\n",
       "128198                                    SANDY CLAY, RIDGE\n",
       "125530                                           SANDY CLAY\n",
       "126798                                           SANDY CLAY\n",
       "122452                                           CLAY SANDY\n",
       "123237                                    SANDY BROWN CLAYS\n",
       "126510    SANDY CLAY; 40% LIGHT GREY, EXTREMELY SANDY (C...\n",
       "132331                                         SANDY GRAVEL\n",
       "131807                                           SANDY CLAY\n",
       "132895                                           SANDY CLAY\n",
       "Name: Description, dtype: object"
      ]
     },
     "execution_count": 20,
     "metadata": {},
     "output_type": "execute_result"
    }
   ],
   "source": [
    "sample_desc_for_code('20', seed=123)"
   ]
  },
  {
   "cell_type": "markdown",
   "id": "188b8d70-be95-4e21-894b-b1c15a43368c",
   "metadata": {},
   "source": [
    "Interesting. There is a clear pattern. I know from my prior exposure that \"Clayey sands\" and \"sandy clays\" are not that uncommon (and gradations of mixes of sand and clay matter a great deal to estimate hydraulic conductivity)."
   ]
  },
  {
   "cell_type": "markdown",
   "id": "acdbd17c-54d2-493b-9eaf-3823b4bb9c4a",
   "metadata": {},
   "source": [
    "## Next"
   ]
  },
  {
   "cell_type": "markdown",
   "id": "019f0de7-4dd8-4f61-b2b9-6cbe1207b35c",
   "metadata": {},
   "source": [
    "This was the initial EDA. Next I'll  probably train a classifier on the major lithology code (or a subset thereof). I am keen to explore multi-label classification, but will have to decide whether to populate the secondary lithology code using regexp classification, or switch to a fully labelled dataset at some point.\n",
    "\n",
    "This first post illustrated the need to have a look at data. This data was already collated and curated, and I have no doubt many people went through a lot of work to get there. But this may not be a fully labelled dataset amenable to be used for training a classifier. At least, not without further data preparation."
   ]
  },
  {
   "cell_type": "code",
   "execution_count": null,
   "id": "f28555b1-621d-4e0d-85e6-7ef0ee66cbb4",
   "metadata": {},
   "outputs": [],
   "source": []
  }
 ],
 "metadata": {
  "kernelspec": {
   "display_name": "ELA",
   "language": "python",
   "name": "ela"
  },
  "language_info": {
   "codemirror_mode": {
    "name": "ipython",
    "version": 3
   },
   "file_extension": ".py",
   "mimetype": "text/x-python",
   "name": "python",
   "nbconvert_exporter": "python",
   "pygments_lexer": "ipython3",
   "version": "3.10.4"
  }
 },
 "nbformat": 4,
 "nbformat_minor": 5
}
